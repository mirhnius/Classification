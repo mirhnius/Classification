{
 "metadata": {
  "language_info": {
   "codemirror_mode": {
    "name": "ipython",
    "version": 3
   },
   "file_extension": ".py",
   "mimetype": "text/x-python",
   "name": "python",
   "nbconvert_exporter": "python",
   "pygments_lexer": "ipython3",
   "version": "3.7.6-final"
  },
  "orig_nbformat": 2,
  "kernelspec": {
   "name": "python3",
   "display_name": "Python 3",
   "language": "python"
  }
 },
 "nbformat": 4,
 "nbformat_minor": 2,
 "cells": [
  {
   "cell_type": "code",
   "execution_count": 2,
   "metadata": {},
   "outputs": [],
   "source": [
    "import numpy as np\n",
    "import pandas as pd\n",
    "import seaborn as sns\n",
    "import matplotlib.pyplot as plt\n",
    "import glob"
   ]
  },
  {
   "cell_type": "code",
   "execution_count": 3,
   "metadata": {},
   "outputs": [
    {
     "output_type": "execute_result",
     "data": {
      "text/plain": [
       "0      sub-10159\n",
       "1      sub-10171\n",
       "2      sub-10189\n",
       "3      sub-10193\n",
       "4      sub-10206\n",
       "         ...    \n",
       "267    sub-70079\n",
       "268    sub-70080\n",
       "269    sub-70081\n",
       "270    sub-70083\n",
       "271    sub-70086\n",
       "Name: participant_id, Length: 272, dtype: object"
      ]
     },
     "metadata": {},
     "execution_count": 3
    }
   ],
   "source": [
    "df_golden = pd.read_csv('F:\\p_fmri\\code\\mynew_data\\golden.csv') \n",
    "df_golden['participant_id']"
   ]
  },
  {
   "cell_type": "code",
   "execution_count": 4,
   "metadata": {},
   "outputs": [],
   "source": [
    "healthy_indx  = np.array(df_golden['participant_id'].str.find('sub-1'))\n",
    "healthy_indx  = np.where(healthy_indx == 0)\n",
    "SC_index  = np.array(df_golden['participant_id'].str.find('sub-5'))\n",
    "SC_index  = np.where(SC_index == 0)\n",
    "BP_indx  = np.array(df_golden['participant_id'].str.find('sub-6'))\n",
    "BP_indx  = np.where(BP_indx == 0)\n",
    "ADHD_indx  = np.array(df_golden['participant_id'].str.find('sub-7'))\n",
    "ADHD_indx  = np.where(ADHD_indx == 0)\n"
   ]
  },
  {
   "cell_type": "code",
   "execution_count": 5,
   "metadata": {},
   "outputs": [],
   "source": [
    "classes = np.zeros((272,1))\n",
    "classes[SC_index[0]] = 1\n",
    "classes[BP_indx[0]] = 2\n",
    "classes[ADHD_indx[0]] = 3"
   ]
  },
  {
   "cell_type": "code",
   "execution_count": 6,
   "metadata": {},
   "outputs": [],
   "source": [
    "path = \"F:\\p_fmri\\code\\mynew_data\" # use your path\n",
    "all_files = glob.glob(path + \"/*.csv\")"
   ]
  },
  {
   "cell_type": "code",
   "execution_count": 7,
   "metadata": {},
   "outputs": [],
   "source": [
    "# for i in[0,14,20,21,29,19,17]:\n",
    "#     print(all_files[i])\n",
    "#     F:\\p_fmri\\code\\csv_data\\admin.csv\n",
    "# F:\\p_fmri\\code\\csv_data\\phenotype_colorvision.csv\n",
    "# F:\\p_fmri\\code\\csv_data\\phenotype_dkefs.csv\n",
    "# F:\\p_fmri\\code\\csv_data\\phenotype_dkefs_spanish.csv\n",
    "# F:\\p_fmri\\code\\csv_data\\phenotype_scid.csv\n",
    "# F:\\p_fmri\\code\\csv_data\\phenotype_discounting.csv\n",
    "# F:\\p_fmri\\code\\csv_data\\phenotype_demographics.csv"
   ]
  },
  {
   "cell_type": "code",
   "execution_count": 8,
   "metadata": {},
   "outputs": [],
   "source": [
    "remove_list = [0]\n",
    "i = 0\n",
    "li = []\n",
    "for filename in all_files:\n",
    "    if i in remove_list:\n",
    "        i = i + 1\n",
    "        continue\n",
    "    i = i + 1\n",
    "    df = pd.read_csv(filename, index_col=None, header=0)\n",
    "    df = df.drop(df.columns[[0]], axis=1)\n",
    "    li.append(df)\n",
    "\n",
    "frame = pd.concat(li,axis=1, join='inner')"
   ]
  },
  {
   "cell_type": "code",
   "execution_count": 9,
   "metadata": {},
   "outputs": [],
   "source": [
    "frame.insert(loc=0, column='class', value=classes)"
   ]
  },
  {
   "cell_type": "code",
   "execution_count": 10,
   "metadata": {},
   "outputs": [
    {
     "output_type": "execute_result",
     "data": {
      "text/plain": [
       "     class  fidget  organize  remappointment  finaldetail  aviodstart  \\\n",
       "0      0.0       2         1               1            2           2   \n",
       "1      0.0       3         2               2            1           3   \n",
       "2      0.0       1         2               3            2           1   \n",
       "3      0.0       1         0               1            1           2   \n",
       "4      0.0       0         1               1            1           1   \n",
       "..     ...     ...       ...             ...          ...         ...   \n",
       "267    3.0       4         4               3            4           4   \n",
       "268    3.0       3         2               3            2           2   \n",
       "269    3.0       4         3               2            3           4   \n",
       "270    3.0       4         2               2            3           2   \n",
       "271    3.0       2         1               0            2           3   \n",
       "\n",
       "     overactive  asrs_score  asrs_exclusionscore  asrs_flag  ...  ymrs1  \\\n",
       "0             3          11                    2          0  ...    NaN   \n",
       "1             2          13                    4          1  ...    NaN   \n",
       "2             0           9                    3          0  ...    NaN   \n",
       "3             1           6                    0          0  ...    NaN   \n",
       "4             3           7                    1          0  ...    NaN   \n",
       "..          ...         ...                  ...        ...  ...    ...   \n",
       "267           3          22                    6          1  ...    1.0   \n",
       "268           2          14                    4          1  ...    1.0   \n",
       "269           3          19                    6          1  ...    0.0   \n",
       "270           3          16                    5          1  ...    0.0   \n",
       "271           0           8                    2          0  ...    0.0   \n",
       "\n",
       "     ymrs9  ymrs11  ymrs8  ymrs6  ymrs3  ymrs7  ymrs4  ymrs10  ymrs2  \n",
       "0      NaN     NaN    NaN    NaN    NaN    NaN    NaN     NaN    NaN  \n",
       "1      NaN     NaN    NaN    NaN    NaN    NaN    NaN     NaN    NaN  \n",
       "2      NaN     NaN    NaN    NaN    NaN    NaN    NaN     NaN    NaN  \n",
       "3      NaN     NaN    NaN    NaN    NaN    NaN    NaN     NaN    NaN  \n",
       "4      NaN     NaN    NaN    NaN    NaN    NaN    NaN     NaN    NaN  \n",
       "..     ...     ...    ...    ...    ...    ...    ...     ...    ...  \n",
       "267    1.0     0.0    0.0    1.0    0.0    0.0    0.0     1.0    1.0  \n",
       "268    1.0     0.0    0.0    4.0    0.0    1.0    0.0     0.0    2.0  \n",
       "269    0.0     0.0    0.0    4.0    0.0    2.0    2.0     0.0    2.0  \n",
       "270    0.0     0.0    0.0    0.0    0.0    0.0    1.0     0.0    1.0  \n",
       "271    0.0     0.0    1.0    3.0    0.0    1.0    0.0     1.0    2.0  \n",
       "\n",
       "[272 rows x 1914 columns]"
      ],
      "text/html": "<div>\n<style scoped>\n    .dataframe tbody tr th:only-of-type {\n        vertical-align: middle;\n    }\n\n    .dataframe tbody tr th {\n        vertical-align: top;\n    }\n\n    .dataframe thead th {\n        text-align: right;\n    }\n</style>\n<table border=\"1\" class=\"dataframe\">\n  <thead>\n    <tr style=\"text-align: right;\">\n      <th></th>\n      <th>class</th>\n      <th>fidget</th>\n      <th>organize</th>\n      <th>remappointment</th>\n      <th>finaldetail</th>\n      <th>aviodstart</th>\n      <th>overactive</th>\n      <th>asrs_score</th>\n      <th>asrs_exclusionscore</th>\n      <th>asrs_flag</th>\n      <th>...</th>\n      <th>ymrs1</th>\n      <th>ymrs9</th>\n      <th>ymrs11</th>\n      <th>ymrs8</th>\n      <th>ymrs6</th>\n      <th>ymrs3</th>\n      <th>ymrs7</th>\n      <th>ymrs4</th>\n      <th>ymrs10</th>\n      <th>ymrs2</th>\n    </tr>\n  </thead>\n  <tbody>\n    <tr>\n      <th>0</th>\n      <td>0.0</td>\n      <td>2</td>\n      <td>1</td>\n      <td>1</td>\n      <td>2</td>\n      <td>2</td>\n      <td>3</td>\n      <td>11</td>\n      <td>2</td>\n      <td>0</td>\n      <td>...</td>\n      <td>NaN</td>\n      <td>NaN</td>\n      <td>NaN</td>\n      <td>NaN</td>\n      <td>NaN</td>\n      <td>NaN</td>\n      <td>NaN</td>\n      <td>NaN</td>\n      <td>NaN</td>\n      <td>NaN</td>\n    </tr>\n    <tr>\n      <th>1</th>\n      <td>0.0</td>\n      <td>3</td>\n      <td>2</td>\n      <td>2</td>\n      <td>1</td>\n      <td>3</td>\n      <td>2</td>\n      <td>13</td>\n      <td>4</td>\n      <td>1</td>\n      <td>...</td>\n      <td>NaN</td>\n      <td>NaN</td>\n      <td>NaN</td>\n      <td>NaN</td>\n      <td>NaN</td>\n      <td>NaN</td>\n      <td>NaN</td>\n      <td>NaN</td>\n      <td>NaN</td>\n      <td>NaN</td>\n    </tr>\n    <tr>\n      <th>2</th>\n      <td>0.0</td>\n      <td>1</td>\n      <td>2</td>\n      <td>3</td>\n      <td>2</td>\n      <td>1</td>\n      <td>0</td>\n      <td>9</td>\n      <td>3</td>\n      <td>0</td>\n      <td>...</td>\n      <td>NaN</td>\n      <td>NaN</td>\n      <td>NaN</td>\n      <td>NaN</td>\n      <td>NaN</td>\n      <td>NaN</td>\n      <td>NaN</td>\n      <td>NaN</td>\n      <td>NaN</td>\n      <td>NaN</td>\n    </tr>\n    <tr>\n      <th>3</th>\n      <td>0.0</td>\n      <td>1</td>\n      <td>0</td>\n      <td>1</td>\n      <td>1</td>\n      <td>2</td>\n      <td>1</td>\n      <td>6</td>\n      <td>0</td>\n      <td>0</td>\n      <td>...</td>\n      <td>NaN</td>\n      <td>NaN</td>\n      <td>NaN</td>\n      <td>NaN</td>\n      <td>NaN</td>\n      <td>NaN</td>\n      <td>NaN</td>\n      <td>NaN</td>\n      <td>NaN</td>\n      <td>NaN</td>\n    </tr>\n    <tr>\n      <th>4</th>\n      <td>0.0</td>\n      <td>0</td>\n      <td>1</td>\n      <td>1</td>\n      <td>1</td>\n      <td>1</td>\n      <td>3</td>\n      <td>7</td>\n      <td>1</td>\n      <td>0</td>\n      <td>...</td>\n      <td>NaN</td>\n      <td>NaN</td>\n      <td>NaN</td>\n      <td>NaN</td>\n      <td>NaN</td>\n      <td>NaN</td>\n      <td>NaN</td>\n      <td>NaN</td>\n      <td>NaN</td>\n      <td>NaN</td>\n    </tr>\n    <tr>\n      <th>...</th>\n      <td>...</td>\n      <td>...</td>\n      <td>...</td>\n      <td>...</td>\n      <td>...</td>\n      <td>...</td>\n      <td>...</td>\n      <td>...</td>\n      <td>...</td>\n      <td>...</td>\n      <td>...</td>\n      <td>...</td>\n      <td>...</td>\n      <td>...</td>\n      <td>...</td>\n      <td>...</td>\n      <td>...</td>\n      <td>...</td>\n      <td>...</td>\n      <td>...</td>\n      <td>...</td>\n    </tr>\n    <tr>\n      <th>267</th>\n      <td>3.0</td>\n      <td>4</td>\n      <td>4</td>\n      <td>3</td>\n      <td>4</td>\n      <td>4</td>\n      <td>3</td>\n      <td>22</td>\n      <td>6</td>\n      <td>1</td>\n      <td>...</td>\n      <td>1.0</td>\n      <td>1.0</td>\n      <td>0.0</td>\n      <td>0.0</td>\n      <td>1.0</td>\n      <td>0.0</td>\n      <td>0.0</td>\n      <td>0.0</td>\n      <td>1.0</td>\n      <td>1.0</td>\n    </tr>\n    <tr>\n      <th>268</th>\n      <td>3.0</td>\n      <td>3</td>\n      <td>2</td>\n      <td>3</td>\n      <td>2</td>\n      <td>2</td>\n      <td>2</td>\n      <td>14</td>\n      <td>4</td>\n      <td>1</td>\n      <td>...</td>\n      <td>1.0</td>\n      <td>1.0</td>\n      <td>0.0</td>\n      <td>0.0</td>\n      <td>4.0</td>\n      <td>0.0</td>\n      <td>1.0</td>\n      <td>0.0</td>\n      <td>0.0</td>\n      <td>2.0</td>\n    </tr>\n    <tr>\n      <th>269</th>\n      <td>3.0</td>\n      <td>4</td>\n      <td>3</td>\n      <td>2</td>\n      <td>3</td>\n      <td>4</td>\n      <td>3</td>\n      <td>19</td>\n      <td>6</td>\n      <td>1</td>\n      <td>...</td>\n      <td>0.0</td>\n      <td>0.0</td>\n      <td>0.0</td>\n      <td>0.0</td>\n      <td>4.0</td>\n      <td>0.0</td>\n      <td>2.0</td>\n      <td>2.0</td>\n      <td>0.0</td>\n      <td>2.0</td>\n    </tr>\n    <tr>\n      <th>270</th>\n      <td>3.0</td>\n      <td>4</td>\n      <td>2</td>\n      <td>2</td>\n      <td>3</td>\n      <td>2</td>\n      <td>3</td>\n      <td>16</td>\n      <td>5</td>\n      <td>1</td>\n      <td>...</td>\n      <td>0.0</td>\n      <td>0.0</td>\n      <td>0.0</td>\n      <td>0.0</td>\n      <td>0.0</td>\n      <td>0.0</td>\n      <td>0.0</td>\n      <td>1.0</td>\n      <td>0.0</td>\n      <td>1.0</td>\n    </tr>\n    <tr>\n      <th>271</th>\n      <td>3.0</td>\n      <td>2</td>\n      <td>1</td>\n      <td>0</td>\n      <td>2</td>\n      <td>3</td>\n      <td>0</td>\n      <td>8</td>\n      <td>2</td>\n      <td>0</td>\n      <td>...</td>\n      <td>0.0</td>\n      <td>0.0</td>\n      <td>0.0</td>\n      <td>1.0</td>\n      <td>3.0</td>\n      <td>0.0</td>\n      <td>1.0</td>\n      <td>0.0</td>\n      <td>1.0</td>\n      <td>2.0</td>\n    </tr>\n  </tbody>\n</table>\n<p>272 rows × 1914 columns</p>\n</div>"
     },
     "metadata": {},
     "execution_count": 10
    }
   ],
   "source": [
    "frame"
   ]
  },
  {
   "cell_type": "code",
   "execution_count": 11,
   "metadata": {},
   "outputs": [
    {
     "output_type": "execute_result",
     "data": {
      "text/plain": [
       "51"
      ]
     },
     "metadata": {},
     "execution_count": 11
    }
   ],
   "source": [
    "len(all_files)"
   ]
  },
  {
   "cell_type": "code",
   "execution_count": 12,
   "metadata": {},
   "outputs": [
    {
     "output_type": "execute_result",
     "data": {
      "text/plain": [
       "['F:\\\\p_fmri\\\\code\\\\mynew_data\\\\admin.csv',\n",
       " 'F:\\\\p_fmri\\\\code\\\\mynew_data\\\\arsr.csv',\n",
       " 'F:\\\\p_fmri\\\\code\\\\mynew_data\\\\bart.csv',\n",
       " 'F:\\\\p_fmri\\\\code\\\\mynew_data\\\\bipolar.csv',\n",
       " 'F:\\\\p_fmri\\\\code\\\\mynew_data\\\\bprs.csv',\n",
       " 'F:\\\\p_fmri\\\\code\\\\mynew_data\\\\chapinf.csv',\n",
       " 'F:\\\\p_fmri\\\\code\\\\mynew_data\\\\chapper.csv',\n",
       " 'F:\\\\p_fmri\\\\code\\\\mynew_data\\\\golden.csv',\n",
       " 'F:\\\\p_fmri\\\\code\\\\mynew_data\\\\hamilton.csv',\n",
       " 'F:\\\\p_fmri\\\\code\\\\mynew_data\\\\hopkins.csv',\n",
       " 'F:\\\\p_fmri\\\\code\\\\mynew_data\\\\phenotype_acds_adult .csv',\n",
       " 'F:\\\\p_fmri\\\\code\\\\mynew_data\\\\phenotype_adhd.csv',\n",
       " 'F:\\\\p_fmri\\\\code\\\\mynew_data\\\\phenotype_ant.csv',\n",
       " 'F:\\\\p_fmri\\\\code\\\\mynew_data\\\\phenotype_barratt .csv',\n",
       " 'F:\\\\p_fmri\\\\code\\\\mynew_data\\\\phenotype_chaphyp.csv',\n",
       " 'F:\\\\p_fmri\\\\code\\\\mynew_data\\\\phenotype_chapsoc.csv',\n",
       " 'F:\\\\p_fmri\\\\code\\\\mynew_data\\\\phenotype_chronotype.csv',\n",
       " 'F:\\\\p_fmri\\\\code\\\\mynew_data\\\\phenotype_colortrails.csv',\n",
       " 'F:\\\\p_fmri\\\\code\\\\mynew_data\\\\phenotype_colorvision.csv',\n",
       " 'F:\\\\p_fmri\\\\code\\\\mynew_data\\\\phenotype_cpt.csv',\n",
       " 'F:\\\\p_fmri\\\\code\\\\mynew_data\\\\phenotype_cvlt.csv',\n",
       " 'F:\\\\p_fmri\\\\code\\\\mynew_data\\\\phenotype_demographics.csv',\n",
       " 'F:\\\\p_fmri\\\\code\\\\mynew_data\\\\phenotype_dickman.csv',\n",
       " 'F:\\\\p_fmri\\\\code\\\\mynew_data\\\\phenotype_discounting.csv',\n",
       " 'F:\\\\p_fmri\\\\code\\\\mynew_data\\\\phenotype_dkefs.csv',\n",
       " 'F:\\\\p_fmri\\\\code\\\\mynew_data\\\\phenotype_dkefs_spanish.csv',\n",
       " 'F:\\\\p_fmri\\\\code\\\\mynew_data\\\\phenotype_eysenck (1).csv',\n",
       " 'F:\\\\p_fmri\\\\code\\\\mynew_data\\\\phenotype_handedness.csv',\n",
       " 'F:\\\\p_fmri\\\\code\\\\mynew_data\\\\phenotype_health.csv',\n",
       " 'F:\\\\p_fmri\\\\code\\\\mynew_data\\\\phenotype_language .csv',\n",
       " 'F:\\\\p_fmri\\\\code\\\\mynew_data\\\\phenotype_medication.csv',\n",
       " 'F:\\\\p_fmri\\\\code\\\\mynew_data\\\\phenotype_mpq.csv',\n",
       " 'F:\\\\p_fmri\\\\code\\\\mynew_data\\\\phenotype_rk.csv',\n",
       " 'F:\\\\p_fmri\\\\code\\\\mynew_data\\\\phenotype_sans.csv',\n",
       " 'F:\\\\p_fmri\\\\code\\\\mynew_data\\\\phenotype_saps.csv',\n",
       " 'F:\\\\p_fmri\\\\code\\\\mynew_data\\\\phenotype_scap.csv',\n",
       " 'F:\\\\p_fmri\\\\code\\\\mynew_data\\\\phenotype_scid.csv',\n",
       " 'F:\\\\p_fmri\\\\code\\\\mynew_data\\\\phenotype_smnm.csv',\n",
       " 'F:\\\\p_fmri\\\\code\\\\mynew_data\\\\phenotype_spanish_vocab.csv',\n",
       " 'F:\\\\p_fmri\\\\code\\\\mynew_data\\\\phenotype_sr.csv',\n",
       " 'F:\\\\p_fmri\\\\code\\\\mynew_data\\\\phenotype_stopsignal.csv',\n",
       " 'F:\\\\p_fmri\\\\code\\\\mynew_data\\\\phenotype_stroop.csv',\n",
       " 'F:\\\\p_fmri\\\\code\\\\mynew_data\\\\phenotype_taskswitch.csv',\n",
       " 'F:\\\\p_fmri\\\\code\\\\mynew_data\\\\phenotype_tbi.csv',\n",
       " 'F:\\\\p_fmri\\\\code\\\\mynew_data\\\\phenotype_tci.csv',\n",
       " 'F:\\\\p_fmri\\\\code\\\\mynew_data\\\\phenotype_vcap.csv',\n",
       " 'F:\\\\p_fmri\\\\code\\\\mynew_data\\\\phenotype_visualacuity .csv',\n",
       " 'F:\\\\p_fmri\\\\code\\\\mynew_data\\\\phenotype_vmnm.csv',\n",
       " 'F:\\\\p_fmri\\\\code\\\\mynew_data\\\\phenotype_wais.csv',\n",
       " 'F:\\\\p_fmri\\\\code\\\\mynew_data\\\\wms.csv',\n",
       " 'F:\\\\p_fmri\\\\code\\\\mynew_data\\\\ymrs.csv']"
      ]
     },
     "metadata": {},
     "execution_count": 12
    }
   ],
   "source": [
    "all_files"
   ]
  },
  {
   "cell_type": "code",
   "execution_count": 13,
   "metadata": {},
   "outputs": [
    {
     "output_type": "stream",
     "name": "stdout",
     "text": [
      "F:\\p_fmri\\code\\mynew_data\\admin.csv\n",
      "F:\\p_fmri\\code\\mynew_data\\phenotype_adhd.csv\n",
      "F:\\p_fmri\\code\\mynew_data\\phenotype_colorvision.csv\n",
      "F:\\p_fmri\\code\\mynew_data\\phenotype_dkefs_spanish.csv\n",
      "F:\\p_fmri\\code\\mynew_data\\phenotype_medication.csv\n",
      "F:\\p_fmri\\code\\mynew_data\\phenotype_scid.csv\n",
      "F:\\p_fmri\\code\\mynew_data\\phenotype_spanish_vocab.csv\n"
     ]
    }
   ],
   "source": [
    "remove_list = [0,11,18,25,30,36,38]\n",
    "i = 0\n",
    "li = []\n",
    "for filename in all_files:\n",
    "    if i in remove_list:\n",
    "        print(filename)\n",
    "        i = i + 1\n",
    "        continue\n",
    "    i = i + 1\n",
    "    df = pd.read_csv(filename, index_col=None, header=0)\n",
    "    df = df.drop(df.columns[[0]], axis=1)\n",
    "    li.append(df)\n",
    "\n",
    "df1 = pd.concat(li,axis=1, join='inner')"
   ]
  },
  {
   "cell_type": "code",
   "execution_count": 14,
   "metadata": {},
   "outputs": [],
   "source": [
    "df1.insert(loc=0, column='class', value=classes)"
   ]
  },
  {
   "cell_type": "code",
   "execution_count": 15,
   "metadata": {},
   "outputs": [
    {
     "output_type": "execute_result",
     "data": {
      "text/plain": [
       "     class  fidget  organize  remappointment  finaldetail  aviodstart  \\\n",
       "0      0.0       2         1               1            2           2   \n",
       "1      0.0       3         2               2            1           3   \n",
       "2      0.0       1         2               3            2           1   \n",
       "3      0.0       1         0               1            1           2   \n",
       "4      0.0       0         1               1            1           1   \n",
       "..     ...     ...       ...             ...          ...         ...   \n",
       "267    3.0       4         4               3            4           4   \n",
       "268    3.0       3         2               3            2           2   \n",
       "269    3.0       4         3               2            3           4   \n",
       "270    3.0       4         2               2            3           2   \n",
       "271    3.0       2         1               0            2           3   \n",
       "\n",
       "     overactive  asrs_score  asrs_exclusionscore  asrs_flag  ...  ymrs1  \\\n",
       "0             3          11                    2          0  ...    NaN   \n",
       "1             2          13                    4          1  ...    NaN   \n",
       "2             0           9                    3          0  ...    NaN   \n",
       "3             1           6                    0          0  ...    NaN   \n",
       "4             3           7                    1          0  ...    NaN   \n",
       "..          ...         ...                  ...        ...  ...    ...   \n",
       "267           3          22                    6          1  ...    1.0   \n",
       "268           2          14                    4          1  ...    1.0   \n",
       "269           3          19                    6          1  ...    0.0   \n",
       "270           3          16                    5          1  ...    0.0   \n",
       "271           0           8                    2          0  ...    0.0   \n",
       "\n",
       "     ymrs9  ymrs11  ymrs8  ymrs6  ymrs3  ymrs7  ymrs4  ymrs10  ymrs2  \n",
       "0      NaN     NaN    NaN    NaN    NaN    NaN    NaN     NaN    NaN  \n",
       "1      NaN     NaN    NaN    NaN    NaN    NaN    NaN     NaN    NaN  \n",
       "2      NaN     NaN    NaN    NaN    NaN    NaN    NaN     NaN    NaN  \n",
       "3      NaN     NaN    NaN    NaN    NaN    NaN    NaN     NaN    NaN  \n",
       "4      NaN     NaN    NaN    NaN    NaN    NaN    NaN     NaN    NaN  \n",
       "..     ...     ...    ...    ...    ...    ...    ...     ...    ...  \n",
       "267    1.0     0.0    0.0    1.0    0.0    0.0    0.0     1.0    1.0  \n",
       "268    1.0     0.0    0.0    4.0    0.0    1.0    0.0     0.0    2.0  \n",
       "269    0.0     0.0    0.0    4.0    0.0    2.0    2.0     0.0    2.0  \n",
       "270    0.0     0.0    0.0    0.0    0.0    0.0    1.0     0.0    1.0  \n",
       "271    0.0     0.0    1.0    3.0    0.0    1.0    0.0     1.0    2.0  \n",
       "\n",
       "[272 rows x 1621 columns]"
      ],
      "text/html": "<div>\n<style scoped>\n    .dataframe tbody tr th:only-of-type {\n        vertical-align: middle;\n    }\n\n    .dataframe tbody tr th {\n        vertical-align: top;\n    }\n\n    .dataframe thead th {\n        text-align: right;\n    }\n</style>\n<table border=\"1\" class=\"dataframe\">\n  <thead>\n    <tr style=\"text-align: right;\">\n      <th></th>\n      <th>class</th>\n      <th>fidget</th>\n      <th>organize</th>\n      <th>remappointment</th>\n      <th>finaldetail</th>\n      <th>aviodstart</th>\n      <th>overactive</th>\n      <th>asrs_score</th>\n      <th>asrs_exclusionscore</th>\n      <th>asrs_flag</th>\n      <th>...</th>\n      <th>ymrs1</th>\n      <th>ymrs9</th>\n      <th>ymrs11</th>\n      <th>ymrs8</th>\n      <th>ymrs6</th>\n      <th>ymrs3</th>\n      <th>ymrs7</th>\n      <th>ymrs4</th>\n      <th>ymrs10</th>\n      <th>ymrs2</th>\n    </tr>\n  </thead>\n  <tbody>\n    <tr>\n      <th>0</th>\n      <td>0.0</td>\n      <td>2</td>\n      <td>1</td>\n      <td>1</td>\n      <td>2</td>\n      <td>2</td>\n      <td>3</td>\n      <td>11</td>\n      <td>2</td>\n      <td>0</td>\n      <td>...</td>\n      <td>NaN</td>\n      <td>NaN</td>\n      <td>NaN</td>\n      <td>NaN</td>\n      <td>NaN</td>\n      <td>NaN</td>\n      <td>NaN</td>\n      <td>NaN</td>\n      <td>NaN</td>\n      <td>NaN</td>\n    </tr>\n    <tr>\n      <th>1</th>\n      <td>0.0</td>\n      <td>3</td>\n      <td>2</td>\n      <td>2</td>\n      <td>1</td>\n      <td>3</td>\n      <td>2</td>\n      <td>13</td>\n      <td>4</td>\n      <td>1</td>\n      <td>...</td>\n      <td>NaN</td>\n      <td>NaN</td>\n      <td>NaN</td>\n      <td>NaN</td>\n      <td>NaN</td>\n      <td>NaN</td>\n      <td>NaN</td>\n      <td>NaN</td>\n      <td>NaN</td>\n      <td>NaN</td>\n    </tr>\n    <tr>\n      <th>2</th>\n      <td>0.0</td>\n      <td>1</td>\n      <td>2</td>\n      <td>3</td>\n      <td>2</td>\n      <td>1</td>\n      <td>0</td>\n      <td>9</td>\n      <td>3</td>\n      <td>0</td>\n      <td>...</td>\n      <td>NaN</td>\n      <td>NaN</td>\n      <td>NaN</td>\n      <td>NaN</td>\n      <td>NaN</td>\n      <td>NaN</td>\n      <td>NaN</td>\n      <td>NaN</td>\n      <td>NaN</td>\n      <td>NaN</td>\n    </tr>\n    <tr>\n      <th>3</th>\n      <td>0.0</td>\n      <td>1</td>\n      <td>0</td>\n      <td>1</td>\n      <td>1</td>\n      <td>2</td>\n      <td>1</td>\n      <td>6</td>\n      <td>0</td>\n      <td>0</td>\n      <td>...</td>\n      <td>NaN</td>\n      <td>NaN</td>\n      <td>NaN</td>\n      <td>NaN</td>\n      <td>NaN</td>\n      <td>NaN</td>\n      <td>NaN</td>\n      <td>NaN</td>\n      <td>NaN</td>\n      <td>NaN</td>\n    </tr>\n    <tr>\n      <th>4</th>\n      <td>0.0</td>\n      <td>0</td>\n      <td>1</td>\n      <td>1</td>\n      <td>1</td>\n      <td>1</td>\n      <td>3</td>\n      <td>7</td>\n      <td>1</td>\n      <td>0</td>\n      <td>...</td>\n      <td>NaN</td>\n      <td>NaN</td>\n      <td>NaN</td>\n      <td>NaN</td>\n      <td>NaN</td>\n      <td>NaN</td>\n      <td>NaN</td>\n      <td>NaN</td>\n      <td>NaN</td>\n      <td>NaN</td>\n    </tr>\n    <tr>\n      <th>...</th>\n      <td>...</td>\n      <td>...</td>\n      <td>...</td>\n      <td>...</td>\n      <td>...</td>\n      <td>...</td>\n      <td>...</td>\n      <td>...</td>\n      <td>...</td>\n      <td>...</td>\n      <td>...</td>\n      <td>...</td>\n      <td>...</td>\n      <td>...</td>\n      <td>...</td>\n      <td>...</td>\n      <td>...</td>\n      <td>...</td>\n      <td>...</td>\n      <td>...</td>\n      <td>...</td>\n    </tr>\n    <tr>\n      <th>267</th>\n      <td>3.0</td>\n      <td>4</td>\n      <td>4</td>\n      <td>3</td>\n      <td>4</td>\n      <td>4</td>\n      <td>3</td>\n      <td>22</td>\n      <td>6</td>\n      <td>1</td>\n      <td>...</td>\n      <td>1.0</td>\n      <td>1.0</td>\n      <td>0.0</td>\n      <td>0.0</td>\n      <td>1.0</td>\n      <td>0.0</td>\n      <td>0.0</td>\n      <td>0.0</td>\n      <td>1.0</td>\n      <td>1.0</td>\n    </tr>\n    <tr>\n      <th>268</th>\n      <td>3.0</td>\n      <td>3</td>\n      <td>2</td>\n      <td>3</td>\n      <td>2</td>\n      <td>2</td>\n      <td>2</td>\n      <td>14</td>\n      <td>4</td>\n      <td>1</td>\n      <td>...</td>\n      <td>1.0</td>\n      <td>1.0</td>\n      <td>0.0</td>\n      <td>0.0</td>\n      <td>4.0</td>\n      <td>0.0</td>\n      <td>1.0</td>\n      <td>0.0</td>\n      <td>0.0</td>\n      <td>2.0</td>\n    </tr>\n    <tr>\n      <th>269</th>\n      <td>3.0</td>\n      <td>4</td>\n      <td>3</td>\n      <td>2</td>\n      <td>3</td>\n      <td>4</td>\n      <td>3</td>\n      <td>19</td>\n      <td>6</td>\n      <td>1</td>\n      <td>...</td>\n      <td>0.0</td>\n      <td>0.0</td>\n      <td>0.0</td>\n      <td>0.0</td>\n      <td>4.0</td>\n      <td>0.0</td>\n      <td>2.0</td>\n      <td>2.0</td>\n      <td>0.0</td>\n      <td>2.0</td>\n    </tr>\n    <tr>\n      <th>270</th>\n      <td>3.0</td>\n      <td>4</td>\n      <td>2</td>\n      <td>2</td>\n      <td>3</td>\n      <td>2</td>\n      <td>3</td>\n      <td>16</td>\n      <td>5</td>\n      <td>1</td>\n      <td>...</td>\n      <td>0.0</td>\n      <td>0.0</td>\n      <td>0.0</td>\n      <td>0.0</td>\n      <td>0.0</td>\n      <td>0.0</td>\n      <td>0.0</td>\n      <td>1.0</td>\n      <td>0.0</td>\n      <td>1.0</td>\n    </tr>\n    <tr>\n      <th>271</th>\n      <td>3.0</td>\n      <td>2</td>\n      <td>1</td>\n      <td>0</td>\n      <td>2</td>\n      <td>3</td>\n      <td>0</td>\n      <td>8</td>\n      <td>2</td>\n      <td>0</td>\n      <td>...</td>\n      <td>0.0</td>\n      <td>0.0</td>\n      <td>0.0</td>\n      <td>1.0</td>\n      <td>3.0</td>\n      <td>0.0</td>\n      <td>1.0</td>\n      <td>0.0</td>\n      <td>1.0</td>\n      <td>2.0</td>\n    </tr>\n  </tbody>\n</table>\n<p>272 rows × 1621 columns</p>\n</div>"
     },
     "metadata": {},
     "execution_count": 15
    }
   ],
   "source": [
    "df1"
   ]
  },
  {
   "cell_type": "code",
   "execution_count": 16,
   "metadata": {},
   "outputs": [
    {
     "output_type": "stream",
     "name": "stdout",
     "text": [
      "frprnts\nddt_small_incon\nddt_medium_incon\nddt_large_incon\nbilingual\nlanguagespeaking\nmr_time20\nmr_time17\nmr_time19\nmr_time5\nmr_time4\nmr_time10\nmr_time18\nmr_time25\nmr_time9\nmr_time13\nmr_time12\nmr_time23\nmr_time15\nmr_time26\nmr_time14\nmr_time22\nmr_time8\nmr_time16\nmr_time7\nmr_time24\nmr_time11\nmr_time21\nmr_time6\n"
     ]
    }
   ],
   "source": [
    "df = df1.loc[:,df1.isnull().mean() <0.75]\n",
    "df = df.replace(-9999, np.nan)\n",
    "df = df.replace(-np.inf, np.nan)\n",
    "j = 0\n",
    "all_types = []\n",
    "objects = []\n",
    "for i in df.columns:\n",
    "    if i == 'class':\n",
    "        continue\n",
    "    all_types.append(df[i].dtypes)\n",
    "    if df[i].dtypes == 'object':\n",
    "        print(i)\n",
    "        objects.append(i)\n",
    "    j += 1"
   ]
  },
  {
   "cell_type": "code",
   "execution_count": 17,
   "metadata": {},
   "outputs": [],
   "source": [
    "# df = df.loc[:,frame.isnull().mean() <0.5]\n",
    "# j = 0\n",
    "# all_types = []\n",
    "# for i in df.columns:\n",
    "#     all_types.append(frame[i].dtypes)\n",
    "#     if frame[i].dtypes == 'object':\n",
    "#         print(i)\n",
    "#         j += 1"
   ]
  },
  {
   "cell_type": "code",
   "execution_count": 18,
   "metadata": {},
   "outputs": [
    {
     "output_type": "stream",
     "name": "stdout",
     "text": [
      "frprnts\n",
      "/\n",
      "/\n",
      "/\n",
      "/\n",
      "/\n",
      "mr_time20\n",
      "mr_time17\n",
      "mr_time19\n",
      "mr_time5\n",
      "mr_time4\n",
      "mr_time10\n",
      "mr_time18\n",
      "mr_time25\n",
      "mr_time9\n",
      "mr_time13\n",
      "mr_time12\n",
      "mr_time23\n",
      "mr_time15\n",
      "mr_time26\n",
      "mr_time14\n",
      "mr_time22\n",
      "mr_time8\n",
      "mr_time16\n",
      "mr_time7\n",
      "mr_time24\n",
      "mr_time11\n",
      "mr_time21\n",
      "mr_time6\n"
     ]
    }
   ],
   "source": [
    "from sklearn import preprocessing\n",
    "\n",
    "for col in objects:\n",
    "    if col.find('mr_time')==0 or col == 'frprnts':\n",
    "        df = df.drop([col], axis=1)\n",
    "        print(col)\n",
    "    else:\n",
    "        print(\"/\")\n",
    "        enc = preprocessing.OneHotEncoder(handle_unknown='ignore')\n",
    "        df[col].fillna(df[col].value_counts().index[0], inplace=True)\n",
    "        x = np.array(df[col]).reshape(-1, 1)\n",
    "        df = df.drop([col], axis=1)\n",
    "        transformed = enc.fit_transform(x)\n",
    "        transformed = transformed.toarray()\n",
    "        length = transformed.shape[1]  \n",
    "        transformed = pd.DataFrame(transformed)\n",
    "        transformed.columns  = [col + str(i) for i in range(0,length)] \n",
    "        df = pd.concat([df,transformed],axis=1, join='inner')"
   ]
  },
  {
   "cell_type": "code",
   "execution_count": 19,
   "metadata": {},
   "outputs": [
    {
     "output_type": "execute_result",
     "data": {
      "text/plain": [
       "     class  fidget  organize  remappointment  finaldetail  aviodstart  \\\n",
       "0      0.0       2         1               1            2           2   \n",
       "1      0.0       3         2               2            1           3   \n",
       "2      0.0       1         2               3            2           1   \n",
       "3      0.0       1         0               1            1           2   \n",
       "4      0.0       0         1               1            1           1   \n",
       "..     ...     ...       ...             ...          ...         ...   \n",
       "267    3.0       4         4               3            4           4   \n",
       "268    3.0       3         2               3            2           2   \n",
       "269    3.0       4         3               2            3           4   \n",
       "270    3.0       4         2               2            3           2   \n",
       "271    3.0       2         1               0            2           3   \n",
       "\n",
       "     overactive  asrs_score  asrs_exclusionscore  asrs_flag  ...  ymrs4  \\\n",
       "0             3          11                    2          0  ...    NaN   \n",
       "1             2          13                    4          1  ...    NaN   \n",
       "2             0           9                    3          0  ...    NaN   \n",
       "3             1           6                    0          0  ...    NaN   \n",
       "4             3           7                    1          0  ...    NaN   \n",
       "..          ...         ...                  ...        ...  ...    ...   \n",
       "267           3          22                    6          1  ...    0.0   \n",
       "268           2          14                    4          1  ...    0.0   \n",
       "269           3          19                    6          1  ...    2.0   \n",
       "270           3          16                    5          1  ...    1.0   \n",
       "271           0           8                    2          0  ...    0.0   \n",
       "\n",
       "     ymrs10  ymrs2  ddt_small_incon0  ddt_medium_incon0  ddt_large_incon0  \\\n",
       "0       NaN    NaN               1.0                1.0               1.0   \n",
       "1       NaN    NaN               1.0                1.0               1.0   \n",
       "2       NaN    NaN               1.0                1.0               1.0   \n",
       "3       NaN    NaN               1.0                1.0               1.0   \n",
       "4       NaN    NaN               1.0                1.0               1.0   \n",
       "..      ...    ...               ...                ...               ...   \n",
       "267     1.0    1.0               1.0                1.0               1.0   \n",
       "268     0.0    2.0               1.0                1.0               1.0   \n",
       "269     0.0    2.0               1.0                1.0               1.0   \n",
       "270     0.0    1.0               1.0                1.0               1.0   \n",
       "271     1.0    2.0               1.0                1.0               1.0   \n",
       "\n",
       "     bilingual0  bilingual1  languagespeaking0  languagespeaking1  \n",
       "0           1.0         0.0                1.0                0.0  \n",
       "1           1.0         0.0                1.0                0.0  \n",
       "2           1.0         0.0                1.0                0.0  \n",
       "3           0.0         1.0                1.0                0.0  \n",
       "4           0.0         1.0                1.0                0.0  \n",
       "..          ...         ...                ...                ...  \n",
       "267         1.0         0.0                1.0                0.0  \n",
       "268         1.0         0.0                1.0                0.0  \n",
       "269         1.0         0.0                1.0                0.0  \n",
       "270         1.0         0.0                1.0                0.0  \n",
       "271         1.0         0.0                1.0                0.0  \n",
       "\n",
       "[272 rows x 1557 columns]"
      ],
      "text/html": "<div>\n<style scoped>\n    .dataframe tbody tr th:only-of-type {\n        vertical-align: middle;\n    }\n\n    .dataframe tbody tr th {\n        vertical-align: top;\n    }\n\n    .dataframe thead th {\n        text-align: right;\n    }\n</style>\n<table border=\"1\" class=\"dataframe\">\n  <thead>\n    <tr style=\"text-align: right;\">\n      <th></th>\n      <th>class</th>\n      <th>fidget</th>\n      <th>organize</th>\n      <th>remappointment</th>\n      <th>finaldetail</th>\n      <th>aviodstart</th>\n      <th>overactive</th>\n      <th>asrs_score</th>\n      <th>asrs_exclusionscore</th>\n      <th>asrs_flag</th>\n      <th>...</th>\n      <th>ymrs4</th>\n      <th>ymrs10</th>\n      <th>ymrs2</th>\n      <th>ddt_small_incon0</th>\n      <th>ddt_medium_incon0</th>\n      <th>ddt_large_incon0</th>\n      <th>bilingual0</th>\n      <th>bilingual1</th>\n      <th>languagespeaking0</th>\n      <th>languagespeaking1</th>\n    </tr>\n  </thead>\n  <tbody>\n    <tr>\n      <th>0</th>\n      <td>0.0</td>\n      <td>2</td>\n      <td>1</td>\n      <td>1</td>\n      <td>2</td>\n      <td>2</td>\n      <td>3</td>\n      <td>11</td>\n      <td>2</td>\n      <td>0</td>\n      <td>...</td>\n      <td>NaN</td>\n      <td>NaN</td>\n      <td>NaN</td>\n      <td>1.0</td>\n      <td>1.0</td>\n      <td>1.0</td>\n      <td>1.0</td>\n      <td>0.0</td>\n      <td>1.0</td>\n      <td>0.0</td>\n    </tr>\n    <tr>\n      <th>1</th>\n      <td>0.0</td>\n      <td>3</td>\n      <td>2</td>\n      <td>2</td>\n      <td>1</td>\n      <td>3</td>\n      <td>2</td>\n      <td>13</td>\n      <td>4</td>\n      <td>1</td>\n      <td>...</td>\n      <td>NaN</td>\n      <td>NaN</td>\n      <td>NaN</td>\n      <td>1.0</td>\n      <td>1.0</td>\n      <td>1.0</td>\n      <td>1.0</td>\n      <td>0.0</td>\n      <td>1.0</td>\n      <td>0.0</td>\n    </tr>\n    <tr>\n      <th>2</th>\n      <td>0.0</td>\n      <td>1</td>\n      <td>2</td>\n      <td>3</td>\n      <td>2</td>\n      <td>1</td>\n      <td>0</td>\n      <td>9</td>\n      <td>3</td>\n      <td>0</td>\n      <td>...</td>\n      <td>NaN</td>\n      <td>NaN</td>\n      <td>NaN</td>\n      <td>1.0</td>\n      <td>1.0</td>\n      <td>1.0</td>\n      <td>1.0</td>\n      <td>0.0</td>\n      <td>1.0</td>\n      <td>0.0</td>\n    </tr>\n    <tr>\n      <th>3</th>\n      <td>0.0</td>\n      <td>1</td>\n      <td>0</td>\n      <td>1</td>\n      <td>1</td>\n      <td>2</td>\n      <td>1</td>\n      <td>6</td>\n      <td>0</td>\n      <td>0</td>\n      <td>...</td>\n      <td>NaN</td>\n      <td>NaN</td>\n      <td>NaN</td>\n      <td>1.0</td>\n      <td>1.0</td>\n      <td>1.0</td>\n      <td>0.0</td>\n      <td>1.0</td>\n      <td>1.0</td>\n      <td>0.0</td>\n    </tr>\n    <tr>\n      <th>4</th>\n      <td>0.0</td>\n      <td>0</td>\n      <td>1</td>\n      <td>1</td>\n      <td>1</td>\n      <td>1</td>\n      <td>3</td>\n      <td>7</td>\n      <td>1</td>\n      <td>0</td>\n      <td>...</td>\n      <td>NaN</td>\n      <td>NaN</td>\n      <td>NaN</td>\n      <td>1.0</td>\n      <td>1.0</td>\n      <td>1.0</td>\n      <td>0.0</td>\n      <td>1.0</td>\n      <td>1.0</td>\n      <td>0.0</td>\n    </tr>\n    <tr>\n      <th>...</th>\n      <td>...</td>\n      <td>...</td>\n      <td>...</td>\n      <td>...</td>\n      <td>...</td>\n      <td>...</td>\n      <td>...</td>\n      <td>...</td>\n      <td>...</td>\n      <td>...</td>\n      <td>...</td>\n      <td>...</td>\n      <td>...</td>\n      <td>...</td>\n      <td>...</td>\n      <td>...</td>\n      <td>...</td>\n      <td>...</td>\n      <td>...</td>\n      <td>...</td>\n      <td>...</td>\n    </tr>\n    <tr>\n      <th>267</th>\n      <td>3.0</td>\n      <td>4</td>\n      <td>4</td>\n      <td>3</td>\n      <td>4</td>\n      <td>4</td>\n      <td>3</td>\n      <td>22</td>\n      <td>6</td>\n      <td>1</td>\n      <td>...</td>\n      <td>0.0</td>\n      <td>1.0</td>\n      <td>1.0</td>\n      <td>1.0</td>\n      <td>1.0</td>\n      <td>1.0</td>\n      <td>1.0</td>\n      <td>0.0</td>\n      <td>1.0</td>\n      <td>0.0</td>\n    </tr>\n    <tr>\n      <th>268</th>\n      <td>3.0</td>\n      <td>3</td>\n      <td>2</td>\n      <td>3</td>\n      <td>2</td>\n      <td>2</td>\n      <td>2</td>\n      <td>14</td>\n      <td>4</td>\n      <td>1</td>\n      <td>...</td>\n      <td>0.0</td>\n      <td>0.0</td>\n      <td>2.0</td>\n      <td>1.0</td>\n      <td>1.0</td>\n      <td>1.0</td>\n      <td>1.0</td>\n      <td>0.0</td>\n      <td>1.0</td>\n      <td>0.0</td>\n    </tr>\n    <tr>\n      <th>269</th>\n      <td>3.0</td>\n      <td>4</td>\n      <td>3</td>\n      <td>2</td>\n      <td>3</td>\n      <td>4</td>\n      <td>3</td>\n      <td>19</td>\n      <td>6</td>\n      <td>1</td>\n      <td>...</td>\n      <td>2.0</td>\n      <td>0.0</td>\n      <td>2.0</td>\n      <td>1.0</td>\n      <td>1.0</td>\n      <td>1.0</td>\n      <td>1.0</td>\n      <td>0.0</td>\n      <td>1.0</td>\n      <td>0.0</td>\n    </tr>\n    <tr>\n      <th>270</th>\n      <td>3.0</td>\n      <td>4</td>\n      <td>2</td>\n      <td>2</td>\n      <td>3</td>\n      <td>2</td>\n      <td>3</td>\n      <td>16</td>\n      <td>5</td>\n      <td>1</td>\n      <td>...</td>\n      <td>1.0</td>\n      <td>0.0</td>\n      <td>1.0</td>\n      <td>1.0</td>\n      <td>1.0</td>\n      <td>1.0</td>\n      <td>1.0</td>\n      <td>0.0</td>\n      <td>1.0</td>\n      <td>0.0</td>\n    </tr>\n    <tr>\n      <th>271</th>\n      <td>3.0</td>\n      <td>2</td>\n      <td>1</td>\n      <td>0</td>\n      <td>2</td>\n      <td>3</td>\n      <td>0</td>\n      <td>8</td>\n      <td>2</td>\n      <td>0</td>\n      <td>...</td>\n      <td>0.0</td>\n      <td>1.0</td>\n      <td>2.0</td>\n      <td>1.0</td>\n      <td>1.0</td>\n      <td>1.0</td>\n      <td>1.0</td>\n      <td>0.0</td>\n      <td>1.0</td>\n      <td>0.0</td>\n    </tr>\n  </tbody>\n</table>\n<p>272 rows × 1557 columns</p>\n</div>"
     },
     "metadata": {},
     "execution_count": 19
    }
   ],
   "source": [
    "df"
   ]
  },
  {
   "cell_type": "code",
   "execution_count": 20,
   "metadata": {},
   "outputs": [
    {
     "output_type": "execute_result",
     "data": {
      "text/plain": [
       "['asrs_flag',\n",
       " 'bipolarii11',\n",
       " 'bipolarii12',\n",
       " 'bipolarii10',\n",
       " 'bipolarii17',\n",
       " 'bipolarii8',\n",
       " 'bipolarii2',\n",
       " 'bipolarii7',\n",
       " 'bipolarii5',\n",
       " 'bipolarii22',\n",
       " 'bipolarii3',\n",
       " 'bipolarii27',\n",
       " 'bipolarii19',\n",
       " 'bipolarii16',\n",
       " 'bipolarii31',\n",
       " 'bipolarii1',\n",
       " 'bipolarii6',\n",
       " 'bipolarii15',\n",
       " 'bipolarii23',\n",
       " 'bipolarii30',\n",
       " 'bipolarii21',\n",
       " 'bipolarii29',\n",
       " 'bipolarii4',\n",
       " 'bipolarii9',\n",
       " 'bipolarii20',\n",
       " 'bipolarii13',\n",
       " 'bipolarii26',\n",
       " 'bipolarii14',\n",
       " 'bipolarii24',\n",
       " 'bipolarii25',\n",
       " 'bipolarii18',\n",
       " 'bipolarii28',\n",
       " 'srcpatient',\n",
       " 'chapinf6',\n",
       " 'chapinf4',\n",
       " 'chapinf3',\n",
       " 'chapinf13',\n",
       " 'chapinf8',\n",
       " 'chapinf11',\n",
       " 'chapinf5',\n",
       " 'chapinf10',\n",
       " 'chapinf12',\n",
       " 'chapinf2',\n",
       " 'chapinf7',\n",
       " 'chapinf1',\n",
       " 'chapinf9',\n",
       " 'chapper4',\n",
       " 'chapper30',\n",
       " 'chapper23',\n",
       " 'chapper21',\n",
       " 'chapper14',\n",
       " 'chapper15',\n",
       " 'chapper11',\n",
       " 'chapper5',\n",
       " 'chapper10',\n",
       " 'chapper3',\n",
       " 'chapper27',\n",
       " 'chapper33',\n",
       " 'chapper18',\n",
       " 'chapper8',\n",
       " 'chapper29',\n",
       " 'chapper6',\n",
       " 'chapper28',\n",
       " 'chapper20',\n",
       " 'chapper31',\n",
       " 'chapper17',\n",
       " 'chapper13',\n",
       " 'chapper25',\n",
       " 'chapper22',\n",
       " 'chapper35',\n",
       " 'chapper2',\n",
       " 'chapper1',\n",
       " 'chapper7',\n",
       " 'chapper34',\n",
       " 'chapper9',\n",
       " 'chapper24',\n",
       " 'chapper26',\n",
       " 'chapper16',\n",
       " 'chapper19',\n",
       " 'chapper12',\n",
       " 'chapper32',\n",
       " 'golden3',\n",
       " 'golden1',\n",
       " 'golden2',\n",
       " 'golden4',\n",
       " 'golden5',\n",
       " 'golden6',\n",
       " 'golden7',\n",
       " 'ant_nc_mn_ac',\n",
       " 'ant_ii_std_ac',\n",
       " 'ant_cn_std_ac',\n",
       " 'ant_ni_std_ac',\n",
       " 'ant_in_std_ac',\n",
       " 'ant_cc_mn_ac',\n",
       " 'ant_median_accinc',\n",
       " 'ant_ci_mn_ac',\n",
       " 'ant_median_accneu',\n",
       " 'ant_nn_std_ac',\n",
       " 'ant_median_acccon',\n",
       " 'ant_ic_mn_ac',\n",
       " 'ant_nn_mn_ac',\n",
       " 'ant_ni_mn_ac',\n",
       " 'ant_in_mn_ac',\n",
       " 'ant_ci_std_ac',\n",
       " 'ant_cc_std_ac',\n",
       " 'ant_ic_std_ac',\n",
       " 'ant_cn_mn_ac',\n",
       " 'ant_ii_mn_ac',\n",
       " 'ant_nc_std_ac',\n",
       " 'chaphypo40',\n",
       " 'chaphypo35',\n",
       " 'chaphypo9',\n",
       " 'chaphypo24',\n",
       " 'chaphypo39',\n",
       " 'chaphypo27',\n",
       " 'chaphypo20',\n",
       " 'chaphypo38',\n",
       " 'chaphypo21',\n",
       " 'chaphypo22',\n",
       " 'chaphypo45',\n",
       " 'chaphypo42',\n",
       " 'chaphypo14',\n",
       " 'chaphypo37',\n",
       " 'chaphypo48',\n",
       " 'chaphypo29',\n",
       " 'chaphypo33',\n",
       " 'chaphypo32',\n",
       " 'chaphypo3',\n",
       " 'chaphypo26',\n",
       " 'chaphypo18',\n",
       " 'chaphypo16',\n",
       " 'chaphypo31',\n",
       " 'chaphypo43',\n",
       " 'chaphypo30',\n",
       " 'chaphypo17',\n",
       " 'chaphypo5',\n",
       " 'chaphypo2',\n",
       " 'chaphypo11',\n",
       " 'chaphypo34',\n",
       " 'chaphypo7',\n",
       " 'chaphypo19',\n",
       " 'chaphypo1',\n",
       " 'chaphypo47',\n",
       " 'chaphypo25',\n",
       " 'chaphypo8',\n",
       " 'chaphypo23',\n",
       " 'chaphypo36',\n",
       " 'chaphypo15',\n",
       " 'chaphypo13',\n",
       " 'chaphypo44',\n",
       " 'chaphypo12',\n",
       " 'chaphypo10',\n",
       " 'chaphypo4',\n",
       " 'chaphypo28',\n",
       " 'chaphypo6',\n",
       " 'chaphypo41',\n",
       " 'chaphypo46',\n",
       " 'chapsoc34',\n",
       " 'chapsoc2',\n",
       " 'chapsoc38',\n",
       " 'chapsoc8',\n",
       " 'chapsoc37',\n",
       " 'chapsoc24',\n",
       " 'chapsoc12',\n",
       " 'chapsoc13',\n",
       " 'chapsoc9',\n",
       " 'chapsoc18',\n",
       " 'chapsoc22',\n",
       " 'chapsoc29',\n",
       " 'chapsoc31',\n",
       " 'chapsoc15',\n",
       " 'chapsoc17',\n",
       " 'chapsoc36',\n",
       " 'chapsoc33',\n",
       " 'chapsoc20',\n",
       " 'chapsoc25',\n",
       " 'chapsoc1',\n",
       " 'chapsoc14',\n",
       " 'chapsoc23',\n",
       " 'chapsoc19',\n",
       " 'chapsoc6',\n",
       " 'chapsoc30',\n",
       " 'chapsoc16',\n",
       " 'chapsoc39',\n",
       " 'chapsoc40',\n",
       " 'chapsoc4',\n",
       " 'chapsoc27',\n",
       " 'chapsoc7',\n",
       " 'chapsoc5',\n",
       " 'chapsoc26',\n",
       " 'chapsoc32',\n",
       " 'chapsoc10',\n",
       " 'chapsoc28',\n",
       " 'chapsoc11',\n",
       " 'chapsoc21',\n",
       " 'chapsoc3',\n",
       " 'chapsoc35',\n",
       " 'frdark',\n",
       " 'frprntslp',\n",
       " 'frnap',\n",
       " 'frlight',\n",
       " 'regsch',\n",
       " 'wknap',\n",
       " 'crt_ne2',\n",
       " 'cpt_inh_cnt_750',\n",
       " 'cpt_inh_cnt_3750',\n",
       " 'cpt_miss',\n",
       " 'cpt_inh_cnt_1750',\n",
       " 'cvlt_ind2',\n",
       " 'cvlt_ind1',\n",
       " 'school_back',\n",
       " 'sexuality_opt',\n",
       " 'adopt',\n",
       " 'dick46',\n",
       " 'dick28',\n",
       " 'dick26',\n",
       " 'dick40',\n",
       " 'dick43',\n",
       " 'dick21',\n",
       " 'dick30',\n",
       " 'dick44',\n",
       " 'dick23',\n",
       " 'dick8',\n",
       " 'dick34',\n",
       " 'dick38',\n",
       " 'dick5',\n",
       " 'dick27',\n",
       " 'dick9',\n",
       " 'dick32',\n",
       " 'dick7',\n",
       " 'dick20',\n",
       " 'dick12',\n",
       " 'dick37',\n",
       " 'dick45',\n",
       " 'dick2',\n",
       " 'dick36',\n",
       " 'dick10',\n",
       " 'dick39',\n",
       " 'dick18',\n",
       " 'dick24',\n",
       " 'dick15',\n",
       " 'dick29',\n",
       " 'dick19',\n",
       " 'dick3',\n",
       " 'dick6',\n",
       " 'dick11',\n",
       " 'dick41',\n",
       " 'dick1',\n",
       " 'dick25',\n",
       " 'dick14',\n",
       " 'dick42',\n",
       " 'dick33',\n",
       " 'dick17',\n",
       " 'dick31',\n",
       " 'dick22',\n",
       " 'dick13',\n",
       " 'dick35',\n",
       " 'dick4',\n",
       " 'dick16',\n",
       " 'ddt_items7_typo',\n",
       " 'eysenck46',\n",
       " 'eysenck38',\n",
       " 'eysenck25',\n",
       " 'eysenck24',\n",
       " 'eysenck19',\n",
       " 'eysenck45',\n",
       " 'eysenck9',\n",
       " 'eysenck50',\n",
       " 'eysenck31',\n",
       " 'eysenck30',\n",
       " 'eysenck14',\n",
       " 'eysenck42',\n",
       " 'eysenck28',\n",
       " 'eysenck5',\n",
       " 'eysenck35',\n",
       " 'eysenck32',\n",
       " 'eysenck37',\n",
       " 'eysenck43',\n",
       " 'eysenck17',\n",
       " 'eysenck34',\n",
       " 'eysenck22',\n",
       " 'eysenck7',\n",
       " 'eysenck53',\n",
       " 'eysenck13',\n",
       " 'eysenck3',\n",
       " 'eysenck1',\n",
       " 'eysenck33',\n",
       " 'eysenck48',\n",
       " 'eysenck23',\n",
       " 'eysenck26',\n",
       " 'eysenck49',\n",
       " 'eysenck44',\n",
       " 'eysenck41',\n",
       " 'eysenck36',\n",
       " 'eysenck47',\n",
       " 'eysenck4',\n",
       " 'eysenck27',\n",
       " 'eysenck10',\n",
       " 'eysenck11',\n",
       " 'eysenck6',\n",
       " 'eysenck29',\n",
       " 'eysenck54',\n",
       " 'eysenck21',\n",
       " 'eysenck8',\n",
       " 'eysenck40',\n",
       " 'eysenck51',\n",
       " 'eysenck18',\n",
       " 'eysenck2',\n",
       " 'eysenck12',\n",
       " 'eysenck52',\n",
       " 'eysenck16',\n",
       " 'eysenck15',\n",
       " 'eysenck20',\n",
       " 'eysenck39',\n",
       " 'la2khealth19',\n",
       " 'la2khealth2',\n",
       " 'la2khealth14',\n",
       " 'la2khealth9',\n",
       " 'la2khealth3',\n",
       " 'la2khealth7',\n",
       " 'la2khealth5',\n",
       " 'la2khealth8',\n",
       " 'la2khealth21',\n",
       " 'la2khealth4',\n",
       " 'la2khealth12',\n",
       " 'la2khealth17',\n",
       " 'la2khealth18',\n",
       " 'la2khealth15',\n",
       " 'la2khealth1',\n",
       " 'la2khealth16',\n",
       " 'la2khealth13',\n",
       " 'la2khealth6',\n",
       " 'la2khealth11',\n",
       " 'la2khealth20',\n",
       " 'la2khealth10',\n",
       " 'mpq24',\n",
       " 'mpq209',\n",
       " 'mpq234',\n",
       " 'mpq112',\n",
       " 'mpq185',\n",
       " 'mpq2',\n",
       " 'mpq12',\n",
       " 'mpq243',\n",
       " 'mpq147',\n",
       " 'mpq92',\n",
       " 'mpq251',\n",
       " 'mpq159',\n",
       " 'mpq79',\n",
       " 'mpq124',\n",
       " 'mpq103',\n",
       " 'mpq57',\n",
       " 'mpq136',\n",
       " 'mpq38',\n",
       " 'mpq195',\n",
       " 'mpq219',\n",
       " 'mpq172',\n",
       " 'mpq266',\n",
       " 'mpq47',\n",
       " 'mpq70',\n",
       " 'rk_notrnotk',\n",
       " 'rk_recso',\n",
       " 'rk_recuo',\n",
       " 'scap1_omissionsno_sum',\n",
       " 'scap7_omissionsyes_sum',\n",
       " 'scap5_omissionsno_sum',\n",
       " 'scap3_omissionsno_sum',\n",
       " 'scap1_omissionsyes_sum',\n",
       " 'scap5_omissionsyes_sum',\n",
       " 'scap3_omissions_sum',\n",
       " 'scap3_omissionsyes_sum',\n",
       " 'scap7_omissions_sum',\n",
       " 'scap7_omissionsno_sum',\n",
       " 'scap5_omissions_sum',\n",
       " 'scap1_omissions_sum',\n",
       " 'sr_omi_rec',\n",
       " 'sr_omi_enc',\n",
       " 'scwt_cc_std_ac',\n",
       " 'scwt_ic_std_ac',\n",
       " 'scwt_ci_mn_ac',\n",
       " 'scwt_ic_mn_ac',\n",
       " 'scwt_ii_std_ac',\n",
       " 'scwt_ii_mn_ac',\n",
       " 'scwt_cc_mn_ac',\n",
       " 'scwt_omission',\n",
       " 'scwt_ci_std_ac',\n",
       " 'tbi3',\n",
       " 'tbi2',\n",
       " 'tbisource',\n",
       " 'tbi4',\n",
       " 'tbi1',\n",
       " 'tci137p',\n",
       " 'tci236t',\n",
       " 'tci154t',\n",
       " 'tci62p',\n",
       " 'tci14t',\n",
       " 'tci60p',\n",
       " 'tci34t',\n",
       " 'tci27t',\n",
       " 'tci35t',\n",
       " 'tci139t',\n",
       " 'tci174t',\n",
       " 'tci55t',\n",
       " 'tci2t',\n",
       " 'tci83t',\n",
       " 'tci213t',\n",
       " 'tci147t',\n",
       " 'tci61t',\n",
       " 'tci203t',\n",
       " 'tci44t',\n",
       " 'tci22t',\n",
       " 'tci200p',\n",
       " 'tci113t',\n",
       " 'tci126p',\n",
       " 'tci180t',\n",
       " 'tci211t',\n",
       " 'tci153p',\n",
       " 'tci8p',\n",
       " 'tci143t',\n",
       " 'tci28t',\n",
       " 'tci80t',\n",
       " 'tci22p',\n",
       " 'tci53t',\n",
       " 'tci219t',\n",
       " 'tci129t',\n",
       " 'tci164t',\n",
       " 'tci94p',\n",
       " 'tci197p',\n",
       " 'tci192t',\n",
       " 'tci144t',\n",
       " 'tci158t',\n",
       " 'tci141t',\n",
       " 'tci81t',\n",
       " 'tci66t',\n",
       " 'tci140p',\n",
       " 'tci210t',\n",
       " 'tci91t',\n",
       " 'tci129p',\n",
       " 'tci45p',\n",
       " 'tci100t',\n",
       " 'tci65t',\n",
       " 'tci92t',\n",
       " 'tci189p',\n",
       " 'tci43t',\n",
       " 'tci146p',\n",
       " 'tci188t',\n",
       " 'tci29t',\n",
       " 'tci163p',\n",
       " 'tci55p',\n",
       " 'tci182t',\n",
       " 'tci202t',\n",
       " 'tci173p',\n",
       " 'tci181t',\n",
       " 'tci41t',\n",
       " 'tci212t',\n",
       " 'tci156t',\n",
       " 'tci111p',\n",
       " 'tci157t',\n",
       " 'tci207p',\n",
       " 'tci110t',\n",
       " 'tci37p',\n",
       " 'tci3t',\n",
       " 'tci82t',\n",
       " 'tci52t',\n",
       " 'tci76p',\n",
       " 'tci237t',\n",
       " 'tci117t',\n",
       " 'tci209t',\n",
       " 'tci228p',\n",
       " 'tci70t',\n",
       " 'tci79t',\n",
       " 'tci224t',\n",
       " 'tci231t',\n",
       " 'tci130t',\n",
       " 'tci63t',\n",
       " 'tci193t',\n",
       " 'tci72p',\n",
       " 'tci230t',\n",
       " 'tci46t',\n",
       " 'tci183t',\n",
       " 'tci148t',\n",
       " 'tci226t',\n",
       " 'tci21t',\n",
       " 'tci19t',\n",
       " 'tci149t',\n",
       " 'tci142t',\n",
       " 'tci187t',\n",
       " 'tci26t',\n",
       " 'tci119p',\n",
       " 'tci108t',\n",
       " 'tci202p',\n",
       " 'tci20t',\n",
       " 'tci67t',\n",
       " 'tci217t',\n",
       " 'tci12t',\n",
       " 'tci109t',\n",
       " 'tci102t',\n",
       " 'tci71t',\n",
       " 'tci191p',\n",
       " 'tci54t',\n",
       " 'tci112t',\n",
       " 'tci5p',\n",
       " 'tci114p',\n",
       " 'tci240t',\n",
       " 'tci225t',\n",
       " 'tci165t',\n",
       " 'tci99t',\n",
       " 'tci114t',\n",
       " 'tci13t',\n",
       " 'tci201t',\n",
       " 'tci229p',\n",
       " 'tci155t',\n",
       " 'tci158p',\n",
       " 'tci42t',\n",
       " 'tci117p',\n",
       " 'tci238p',\n",
       " 'tci191t',\n",
       " 'tci1t',\n",
       " 'tci119t',\n",
       " 'tci134p',\n",
       " 'tci189t',\n",
       " 'tci131t',\n",
       " 'tci167t',\n",
       " 'tci240p',\n",
       " 'tci120t',\n",
       " 'tci239t',\n",
       " 'tci68t',\n",
       " 'tci204t',\n",
       " 'tci238t',\n",
       " 'vcap7_omissions_sum',\n",
       " 'vcap5_omissionsyes_sum',\n",
       " 'vcap5_omissionsno_sum',\n",
       " 'vcap3_omissions_sum',\n",
       " 'vcap9_omissionsno_sum',\n",
       " 'vcap7_omissionsno_sum',\n",
       " 'vcap7_omissionsyes_sum',\n",
       " 'vcap5_omissions_sum',\n",
       " 'vcap9_omissionsyes_sum',\n",
       " 'vcap9_omissions_sum',\n",
       " 'vcap3_omissionsno_sum',\n",
       " 'vcap3_omissionsyes_sum',\n",
       " 'ddt_small_incon0',\n",
       " 'ddt_medium_incon0',\n",
       " 'ddt_large_incon0',\n",
       " 'bilingual0',\n",
       " 'bilingual1',\n",
       " 'languagespeaking0',\n",
       " 'languagespeaking1']"
      ]
     },
     "metadata": {},
     "execution_count": 20
    }
   ],
   "source": [
    "bool_cols = [c for c in df.columns if df[c].dropna().value_counts().index.isin([0,1]).all()]\n",
    "bool_cols"
   ]
  },
  {
   "cell_type": "code",
   "execution_count": 21,
   "metadata": {},
   "outputs": [],
   "source": [
    "# col='fidget'\n",
    "# df[col].dropna().value_counts().index.isin([0,1]).all()"
   ]
  },
  {
   "cell_type": "code",
   "execution_count": 22,
   "metadata": {},
   "outputs": [],
   "source": [
    "c=list(df.columns)"
   ]
  },
  {
   "cell_type": "code",
   "execution_count": 23,
   "metadata": {},
   "outputs": [],
   "source": [
    "df_null = df.isnull()"
   ]
  },
  {
   "cell_type": "code",
   "execution_count": 24,
   "metadata": {},
   "outputs": [
    {
     "output_type": "execute_result",
     "data": {
      "text/plain": [
       "0      NaN\n",
       "1      NaN\n",
       "2      NaN\n",
       "3      NaN\n",
       "4      NaN\n",
       "      ... \n",
       "267    2.0\n",
       "268    0.0\n",
       "269    1.0\n",
       "270    1.0\n",
       "271    0.0\n",
       "Name: hamilton18b, Length: 272, dtype: float64"
      ]
     },
     "metadata": {},
     "execution_count": 24
    }
   ],
   "source": [
    "#stats.norm.ppf((1+0.683)/2)\n",
    "df['hamilton18b']"
   ]
  },
  {
   "cell_type": "code",
   "execution_count": 25,
   "metadata": {},
   "outputs": [
    {
     "output_type": "execute_result",
     "data": {
      "text/plain": [
       "0.5244821092278728"
      ]
     },
     "metadata": {},
     "execution_count": 25
    }
   ],
   "source": [
    "df['hamilton18b'].var()"
   ]
  },
  {
   "cell_type": "code",
   "execution_count": 26,
   "metadata": {},
   "outputs": [
    {
     "output_type": "execute_result",
     "data": {
      "text/plain": [
       "0.5338983050847458"
      ]
     },
     "metadata": {},
     "execution_count": 26
    }
   ],
   "source": [
    "df['hamilton18b'].mean()"
   ]
  },
  {
   "cell_type": "code",
   "execution_count": 27,
   "metadata": {},
   "outputs": [
    {
     "output_type": "execute_result",
     "data": {
      "text/plain": [
       "class                2.157034\n",
       "fidget               3.391449\n",
       "organize             2.752492\n",
       "remappointment       2.406102\n",
       "finaldetail          2.701557\n",
       "                       ...   \n",
       "ddt_large_incon0     1.000000\n",
       "bilingual0           1.115716\n",
       "bilingual1           0.851010\n",
       "languagespeaking0    1.157040\n",
       "languagespeaking1    0.237923\n",
       "Length: 1557, dtype: float64"
      ]
     },
     "metadata": {},
     "execution_count": 27
    }
   ],
   "source": [
    "from scipy import stats\n",
    "ratio = stats.norm.ppf((1+.683)/2)\n",
    "threshold = df.mean() + np.sqrt(df.var()) * ratio\n",
    "threshold"
   ]
  },
  {
   "cell_type": "code",
   "execution_count": 28,
   "metadata": {},
   "outputs": [
    {
     "output_type": "execute_result",
     "data": {
      "text/plain": [
       "0      NaN\n",
       "1      NaN\n",
       "2      NaN\n",
       "3      NaN\n",
       "4      NaN\n",
       "      ... \n",
       "267    2.0\n",
       "268    0.0\n",
       "269    1.0\n",
       "270    1.0\n",
       "271    0.0\n",
       "Name: hamilton18b, Length: 272, dtype: float64"
      ]
     },
     "metadata": {},
     "execution_count": 28
    }
   ],
   "source": [
    "df['hamilton18b']"
   ]
  },
  {
   "cell_type": "code",
   "execution_count": 29,
   "metadata": {},
   "outputs": [],
   "source": [
    "df.to_csv('test.csv',index=False)"
   ]
  },
  {
   "cell_type": "code",
   "execution_count": 30,
   "metadata": {},
   "outputs": [],
   "source": [
    "for column in threshold.index:\n",
    "    if column not in bool_cols and column != 'class':\n",
    "        # df[df[column]<=threshold[column]] = 0\n",
    "        # df[df[column]>threshold[column]] = 1\n",
    "        df[column] = np.where(df[column]<threshold[column],0,1)\n",
    "        df[column] = np.where(df_null[column],np.nan,df[column])\n",
    "  \n",
    "      "
   ]
  },
  {
   "cell_type": "code",
   "execution_count": 31,
   "metadata": {},
   "outputs": [
    {
     "output_type": "execute_result",
     "data": {
      "text/plain": [
       "0      False\n",
       "1      False\n",
       "2      False\n",
       "3      False\n",
       "4      False\n",
       "       ...  \n",
       "267    False\n",
       "268    False\n",
       "269    False\n",
       "270    False\n",
       "271    False\n",
       "Name: languagespeaking1, Length: 272, dtype: bool"
      ]
     },
     "metadata": {},
     "execution_count": 31
    }
   ],
   "source": [
    "df_null[column]"
   ]
  },
  {
   "cell_type": "code",
   "execution_count": 32,
   "metadata": {},
   "outputs": [],
   "source": [
    "df.to_csv('my.csv',index=False)"
   ]
  },
  {
   "cell_type": "code",
   "execution_count": 33,
   "metadata": {},
   "outputs": [
    {
     "output_type": "execute_result",
     "data": {
      "text/plain": [
       "1556"
      ]
     },
     "metadata": {},
     "execution_count": 33
    }
   ],
   "source": [
    "len([col for col in df if df[col].dropna().value_counts().index.isin([0,1]).all()])\n"
   ]
  },
  {
   "cell_type": "code",
   "execution_count": 34,
   "metadata": {},
   "outputs": [],
   "source": [
    "mm = df.max()"
   ]
  },
  {
   "cell_type": "code",
   "execution_count": 35,
   "metadata": {},
   "outputs": [
    {
     "output_type": "execute_result",
     "data": {
      "text/plain": [
       "0      False\n",
       "1      False\n",
       "2      False\n",
       "3      False\n",
       "4      False\n",
       "       ...  \n",
       "267    False\n",
       "268     True\n",
       "269     True\n",
       "270     True\n",
       "271    False\n",
       "Name: ymrs10, Length: 272, dtype: bool"
      ]
     },
     "metadata": {},
     "execution_count": 35
    }
   ],
   "source": [
    "df['ymrs10']<threshold['ymrs10']"
   ]
  },
  {
   "cell_type": "code",
   "execution_count": 36,
   "metadata": {},
   "outputs": [
    {
     "output_type": "execute_result",
     "data": {
      "text/plain": [
       "True"
      ]
     },
     "metadata": {},
     "execution_count": 36
    }
   ],
   "source": [
    "\n",
    "np.isnan(df['ymrs10'][0])"
   ]
  },
  {
   "cell_type": "code",
   "execution_count": 37,
   "metadata": {},
   "outputs": [
    {
     "output_type": "stream",
     "name": "stdout",
     "text": [
      "class                0\nfidget               0\norganize             0\nremappointment       0\nfinaldetail          0\n                    ..\nddt_large_incon0     0\nbilingual0           0\nbilingual1           0\nlanguagespeaking0    0\nlanguagespeaking1    0\nLength: 1557, dtype: int64\n"
     ]
    }
   ],
   "source": [
    "\n",
    "print(df.isnull().sum(axis = 0))"
   ]
  },
  {
   "cell_type": "code",
   "execution_count": 38,
   "metadata": {},
   "outputs": [],
   "source": [
    "writer = pd.ExcelWriter('data.xlsx', engine = 'xlsxwriter')\n",
    "frame.to_excel(writer, sheet_name='Sheet1',index=False)\n",
    "df1.to_excel(writer, sheet_name='Sheet2',index=False)\n",
    "df.to_excel(writer, sheet_name='Sheet3',index=False)\n",
    "writer.save()\n",
    "writer.close()"
   ]
  },
  {
   "cell_type": "code",
   "execution_count": 39,
   "metadata": {},
   "outputs": [
    {
     "output_type": "execute_result",
     "data": {
      "text/plain": [
       "     class  fidget  organize  remappointment  finaldetail  aviodstart  \\\n",
       "0      0.0     0.0       0.0             0.0          0.0         0.0   \n",
       "1      0.0     0.0       0.0             0.0          0.0         0.0   \n",
       "2      0.0     0.0       0.0             1.0          0.0         0.0   \n",
       "3      0.0     0.0       0.0             0.0          0.0         0.0   \n",
       "4      0.0     0.0       0.0             0.0          0.0         0.0   \n",
       "..     ...     ...       ...             ...          ...         ...   \n",
       "267    3.0     1.0       1.0             1.0          1.0         1.0   \n",
       "268    3.0     0.0       0.0             1.0          0.0         0.0   \n",
       "269    3.0     1.0       1.0             0.0          1.0         1.0   \n",
       "270    3.0     1.0       0.0             0.0          1.0         0.0   \n",
       "271    3.0     0.0       0.0             0.0          0.0         0.0   \n",
       "\n",
       "     overactive  asrs_score  asrs_exclusionscore  asrs_flag  ...  ymrs4  \\\n",
       "0           1.0         0.0                  0.0          0  ...    NaN   \n",
       "1           0.0         0.0                  0.0          1  ...    NaN   \n",
       "2           0.0         0.0                  0.0          0  ...    NaN   \n",
       "3           0.0         0.0                  0.0          0  ...    NaN   \n",
       "4           1.0         0.0                  0.0          0  ...    NaN   \n",
       "..          ...         ...                  ...        ...  ...    ...   \n",
       "267         1.0         1.0                  1.0          1  ...    0.0   \n",
       "268         0.0         0.0                  0.0          1  ...    0.0   \n",
       "269         1.0         1.0                  1.0          1  ...    1.0   \n",
       "270         1.0         1.0                  1.0          1  ...    0.0   \n",
       "271         0.0         0.0                  0.0          0  ...    0.0   \n",
       "\n",
       "     ymrs10  ymrs2  ddt_small_incon0  ddt_medium_incon0  ddt_large_incon0  \\\n",
       "0       NaN    NaN               1.0                1.0               1.0   \n",
       "1       NaN    NaN               1.0                1.0               1.0   \n",
       "2       NaN    NaN               1.0                1.0               1.0   \n",
       "3       NaN    NaN               1.0                1.0               1.0   \n",
       "4       NaN    NaN               1.0                1.0               1.0   \n",
       "..      ...    ...               ...                ...               ...   \n",
       "267     1.0    0.0               1.0                1.0               1.0   \n",
       "268     0.0    1.0               1.0                1.0               1.0   \n",
       "269     0.0    1.0               1.0                1.0               1.0   \n",
       "270     0.0    0.0               1.0                1.0               1.0   \n",
       "271     1.0    1.0               1.0                1.0               1.0   \n",
       "\n",
       "     bilingual0  bilingual1  languagespeaking0  languagespeaking1  \n",
       "0           1.0         0.0                1.0                0.0  \n",
       "1           1.0         0.0                1.0                0.0  \n",
       "2           1.0         0.0                1.0                0.0  \n",
       "3           0.0         1.0                1.0                0.0  \n",
       "4           0.0         1.0                1.0                0.0  \n",
       "..          ...         ...                ...                ...  \n",
       "267         1.0         0.0                1.0                0.0  \n",
       "268         1.0         0.0                1.0                0.0  \n",
       "269         1.0         0.0                1.0                0.0  \n",
       "270         1.0         0.0                1.0                0.0  \n",
       "271         1.0         0.0                1.0                0.0  \n",
       "\n",
       "[272 rows x 1557 columns]"
      ],
      "text/html": "<div>\n<style scoped>\n    .dataframe tbody tr th:only-of-type {\n        vertical-align: middle;\n    }\n\n    .dataframe tbody tr th {\n        vertical-align: top;\n    }\n\n    .dataframe thead th {\n        text-align: right;\n    }\n</style>\n<table border=\"1\" class=\"dataframe\">\n  <thead>\n    <tr style=\"text-align: right;\">\n      <th></th>\n      <th>class</th>\n      <th>fidget</th>\n      <th>organize</th>\n      <th>remappointment</th>\n      <th>finaldetail</th>\n      <th>aviodstart</th>\n      <th>overactive</th>\n      <th>asrs_score</th>\n      <th>asrs_exclusionscore</th>\n      <th>asrs_flag</th>\n      <th>...</th>\n      <th>ymrs4</th>\n      <th>ymrs10</th>\n      <th>ymrs2</th>\n      <th>ddt_small_incon0</th>\n      <th>ddt_medium_incon0</th>\n      <th>ddt_large_incon0</th>\n      <th>bilingual0</th>\n      <th>bilingual1</th>\n      <th>languagespeaking0</th>\n      <th>languagespeaking1</th>\n    </tr>\n  </thead>\n  <tbody>\n    <tr>\n      <th>0</th>\n      <td>0.0</td>\n      <td>0.0</td>\n      <td>0.0</td>\n      <td>0.0</td>\n      <td>0.0</td>\n      <td>0.0</td>\n      <td>1.0</td>\n      <td>0.0</td>\n      <td>0.0</td>\n      <td>0</td>\n      <td>...</td>\n      <td>NaN</td>\n      <td>NaN</td>\n      <td>NaN</td>\n      <td>1.0</td>\n      <td>1.0</td>\n      <td>1.0</td>\n      <td>1.0</td>\n      <td>0.0</td>\n      <td>1.0</td>\n      <td>0.0</td>\n    </tr>\n    <tr>\n      <th>1</th>\n      <td>0.0</td>\n      <td>0.0</td>\n      <td>0.0</td>\n      <td>0.0</td>\n      <td>0.0</td>\n      <td>0.0</td>\n      <td>0.0</td>\n      <td>0.0</td>\n      <td>0.0</td>\n      <td>1</td>\n      <td>...</td>\n      <td>NaN</td>\n      <td>NaN</td>\n      <td>NaN</td>\n      <td>1.0</td>\n      <td>1.0</td>\n      <td>1.0</td>\n      <td>1.0</td>\n      <td>0.0</td>\n      <td>1.0</td>\n      <td>0.0</td>\n    </tr>\n    <tr>\n      <th>2</th>\n      <td>0.0</td>\n      <td>0.0</td>\n      <td>0.0</td>\n      <td>1.0</td>\n      <td>0.0</td>\n      <td>0.0</td>\n      <td>0.0</td>\n      <td>0.0</td>\n      <td>0.0</td>\n      <td>0</td>\n      <td>...</td>\n      <td>NaN</td>\n      <td>NaN</td>\n      <td>NaN</td>\n      <td>1.0</td>\n      <td>1.0</td>\n      <td>1.0</td>\n      <td>1.0</td>\n      <td>0.0</td>\n      <td>1.0</td>\n      <td>0.0</td>\n    </tr>\n    <tr>\n      <th>3</th>\n      <td>0.0</td>\n      <td>0.0</td>\n      <td>0.0</td>\n      <td>0.0</td>\n      <td>0.0</td>\n      <td>0.0</td>\n      <td>0.0</td>\n      <td>0.0</td>\n      <td>0.0</td>\n      <td>0</td>\n      <td>...</td>\n      <td>NaN</td>\n      <td>NaN</td>\n      <td>NaN</td>\n      <td>1.0</td>\n      <td>1.0</td>\n      <td>1.0</td>\n      <td>0.0</td>\n      <td>1.0</td>\n      <td>1.0</td>\n      <td>0.0</td>\n    </tr>\n    <tr>\n      <th>4</th>\n      <td>0.0</td>\n      <td>0.0</td>\n      <td>0.0</td>\n      <td>0.0</td>\n      <td>0.0</td>\n      <td>0.0</td>\n      <td>1.0</td>\n      <td>0.0</td>\n      <td>0.0</td>\n      <td>0</td>\n      <td>...</td>\n      <td>NaN</td>\n      <td>NaN</td>\n      <td>NaN</td>\n      <td>1.0</td>\n      <td>1.0</td>\n      <td>1.0</td>\n      <td>0.0</td>\n      <td>1.0</td>\n      <td>1.0</td>\n      <td>0.0</td>\n    </tr>\n    <tr>\n      <th>...</th>\n      <td>...</td>\n      <td>...</td>\n      <td>...</td>\n      <td>...</td>\n      <td>...</td>\n      <td>...</td>\n      <td>...</td>\n      <td>...</td>\n      <td>...</td>\n      <td>...</td>\n      <td>...</td>\n      <td>...</td>\n      <td>...</td>\n      <td>...</td>\n      <td>...</td>\n      <td>...</td>\n      <td>...</td>\n      <td>...</td>\n      <td>...</td>\n      <td>...</td>\n      <td>...</td>\n    </tr>\n    <tr>\n      <th>267</th>\n      <td>3.0</td>\n      <td>1.0</td>\n      <td>1.0</td>\n      <td>1.0</td>\n      <td>1.0</td>\n      <td>1.0</td>\n      <td>1.0</td>\n      <td>1.0</td>\n      <td>1.0</td>\n      <td>1</td>\n      <td>...</td>\n      <td>0.0</td>\n      <td>1.0</td>\n      <td>0.0</td>\n      <td>1.0</td>\n      <td>1.0</td>\n      <td>1.0</td>\n      <td>1.0</td>\n      <td>0.0</td>\n      <td>1.0</td>\n      <td>0.0</td>\n    </tr>\n    <tr>\n      <th>268</th>\n      <td>3.0</td>\n      <td>0.0</td>\n      <td>0.0</td>\n      <td>1.0</td>\n      <td>0.0</td>\n      <td>0.0</td>\n      <td>0.0</td>\n      <td>0.0</td>\n      <td>0.0</td>\n      <td>1</td>\n      <td>...</td>\n      <td>0.0</td>\n      <td>0.0</td>\n      <td>1.0</td>\n      <td>1.0</td>\n      <td>1.0</td>\n      <td>1.0</td>\n      <td>1.0</td>\n      <td>0.0</td>\n      <td>1.0</td>\n      <td>0.0</td>\n    </tr>\n    <tr>\n      <th>269</th>\n      <td>3.0</td>\n      <td>1.0</td>\n      <td>1.0</td>\n      <td>0.0</td>\n      <td>1.0</td>\n      <td>1.0</td>\n      <td>1.0</td>\n      <td>1.0</td>\n      <td>1.0</td>\n      <td>1</td>\n      <td>...</td>\n      <td>1.0</td>\n      <td>0.0</td>\n      <td>1.0</td>\n      <td>1.0</td>\n      <td>1.0</td>\n      <td>1.0</td>\n      <td>1.0</td>\n      <td>0.0</td>\n      <td>1.0</td>\n      <td>0.0</td>\n    </tr>\n    <tr>\n      <th>270</th>\n      <td>3.0</td>\n      <td>1.0</td>\n      <td>0.0</td>\n      <td>0.0</td>\n      <td>1.0</td>\n      <td>0.0</td>\n      <td>1.0</td>\n      <td>1.0</td>\n      <td>1.0</td>\n      <td>1</td>\n      <td>...</td>\n      <td>0.0</td>\n      <td>0.0</td>\n      <td>0.0</td>\n      <td>1.0</td>\n      <td>1.0</td>\n      <td>1.0</td>\n      <td>1.0</td>\n      <td>0.0</td>\n      <td>1.0</td>\n      <td>0.0</td>\n    </tr>\n    <tr>\n      <th>271</th>\n      <td>3.0</td>\n      <td>0.0</td>\n      <td>0.0</td>\n      <td>0.0</td>\n      <td>0.0</td>\n      <td>0.0</td>\n      <td>0.0</td>\n      <td>0.0</td>\n      <td>0.0</td>\n      <td>0</td>\n      <td>...</td>\n      <td>0.0</td>\n      <td>1.0</td>\n      <td>1.0</td>\n      <td>1.0</td>\n      <td>1.0</td>\n      <td>1.0</td>\n      <td>1.0</td>\n      <td>0.0</td>\n      <td>1.0</td>\n      <td>0.0</td>\n    </tr>\n  </tbody>\n</table>\n<p>272 rows × 1557 columns</p>\n</div>"
     },
     "metadata": {},
     "execution_count": 39
    }
   ],
   "source": [
    "df"
   ]
  },
  {
   "cell_type": "code",
   "execution_count": 40,
   "metadata": {},
   "outputs": [
    {
     "output_type": "execute_result",
     "data": {
      "text/plain": [
       "     class  fidget  organize  remappointment  finaldetail  aviodstart  \\\n",
       "0      0.0       2         1               1            2           2   \n",
       "1      0.0       3         2               2            1           3   \n",
       "2      0.0       1         2               3            2           1   \n",
       "3      0.0       1         0               1            1           2   \n",
       "4      0.0       0         1               1            1           1   \n",
       "..     ...     ...       ...             ...          ...         ...   \n",
       "267    3.0       4         4               3            4           4   \n",
       "268    3.0       3         2               3            2           2   \n",
       "269    3.0       4         3               2            3           4   \n",
       "270    3.0       4         2               2            3           2   \n",
       "271    3.0       2         1               0            2           3   \n",
       "\n",
       "     overactive  asrs_score  asrs_exclusionscore  asrs_flag  ...  ymrs1  \\\n",
       "0             3          11                    2          0  ...    NaN   \n",
       "1             2          13                    4          1  ...    NaN   \n",
       "2             0           9                    3          0  ...    NaN   \n",
       "3             1           6                    0          0  ...    NaN   \n",
       "4             3           7                    1          0  ...    NaN   \n",
       "..          ...         ...                  ...        ...  ...    ...   \n",
       "267           3          22                    6          1  ...    1.0   \n",
       "268           2          14                    4          1  ...    1.0   \n",
       "269           3          19                    6          1  ...    0.0   \n",
       "270           3          16                    5          1  ...    0.0   \n",
       "271           0           8                    2          0  ...    0.0   \n",
       "\n",
       "     ymrs9  ymrs11  ymrs8  ymrs6  ymrs3  ymrs7  ymrs4  ymrs10  ymrs2  \n",
       "0      NaN     NaN    NaN    NaN    NaN    NaN    NaN     NaN    NaN  \n",
       "1      NaN     NaN    NaN    NaN    NaN    NaN    NaN     NaN    NaN  \n",
       "2      NaN     NaN    NaN    NaN    NaN    NaN    NaN     NaN    NaN  \n",
       "3      NaN     NaN    NaN    NaN    NaN    NaN    NaN     NaN    NaN  \n",
       "4      NaN     NaN    NaN    NaN    NaN    NaN    NaN     NaN    NaN  \n",
       "..     ...     ...    ...    ...    ...    ...    ...     ...    ...  \n",
       "267    1.0     0.0    0.0    1.0    0.0    0.0    0.0     1.0    1.0  \n",
       "268    1.0     0.0    0.0    4.0    0.0    1.0    0.0     0.0    2.0  \n",
       "269    0.0     0.0    0.0    4.0    0.0    2.0    2.0     0.0    2.0  \n",
       "270    0.0     0.0    0.0    0.0    0.0    0.0    1.0     0.0    1.0  \n",
       "271    0.0     0.0    1.0    3.0    0.0    1.0    0.0     1.0    2.0  \n",
       "\n",
       "[272 rows x 1621 columns]"
      ],
      "text/html": "<div>\n<style scoped>\n    .dataframe tbody tr th:only-of-type {\n        vertical-align: middle;\n    }\n\n    .dataframe tbody tr th {\n        vertical-align: top;\n    }\n\n    .dataframe thead th {\n        text-align: right;\n    }\n</style>\n<table border=\"1\" class=\"dataframe\">\n  <thead>\n    <tr style=\"text-align: right;\">\n      <th></th>\n      <th>class</th>\n      <th>fidget</th>\n      <th>organize</th>\n      <th>remappointment</th>\n      <th>finaldetail</th>\n      <th>aviodstart</th>\n      <th>overactive</th>\n      <th>asrs_score</th>\n      <th>asrs_exclusionscore</th>\n      <th>asrs_flag</th>\n      <th>...</th>\n      <th>ymrs1</th>\n      <th>ymrs9</th>\n      <th>ymrs11</th>\n      <th>ymrs8</th>\n      <th>ymrs6</th>\n      <th>ymrs3</th>\n      <th>ymrs7</th>\n      <th>ymrs4</th>\n      <th>ymrs10</th>\n      <th>ymrs2</th>\n    </tr>\n  </thead>\n  <tbody>\n    <tr>\n      <th>0</th>\n      <td>0.0</td>\n      <td>2</td>\n      <td>1</td>\n      <td>1</td>\n      <td>2</td>\n      <td>2</td>\n      <td>3</td>\n      <td>11</td>\n      <td>2</td>\n      <td>0</td>\n      <td>...</td>\n      <td>NaN</td>\n      <td>NaN</td>\n      <td>NaN</td>\n      <td>NaN</td>\n      <td>NaN</td>\n      <td>NaN</td>\n      <td>NaN</td>\n      <td>NaN</td>\n      <td>NaN</td>\n      <td>NaN</td>\n    </tr>\n    <tr>\n      <th>1</th>\n      <td>0.0</td>\n      <td>3</td>\n      <td>2</td>\n      <td>2</td>\n      <td>1</td>\n      <td>3</td>\n      <td>2</td>\n      <td>13</td>\n      <td>4</td>\n      <td>1</td>\n      <td>...</td>\n      <td>NaN</td>\n      <td>NaN</td>\n      <td>NaN</td>\n      <td>NaN</td>\n      <td>NaN</td>\n      <td>NaN</td>\n      <td>NaN</td>\n      <td>NaN</td>\n      <td>NaN</td>\n      <td>NaN</td>\n    </tr>\n    <tr>\n      <th>2</th>\n      <td>0.0</td>\n      <td>1</td>\n      <td>2</td>\n      <td>3</td>\n      <td>2</td>\n      <td>1</td>\n      <td>0</td>\n      <td>9</td>\n      <td>3</td>\n      <td>0</td>\n      <td>...</td>\n      <td>NaN</td>\n      <td>NaN</td>\n      <td>NaN</td>\n      <td>NaN</td>\n      <td>NaN</td>\n      <td>NaN</td>\n      <td>NaN</td>\n      <td>NaN</td>\n      <td>NaN</td>\n      <td>NaN</td>\n    </tr>\n    <tr>\n      <th>3</th>\n      <td>0.0</td>\n      <td>1</td>\n      <td>0</td>\n      <td>1</td>\n      <td>1</td>\n      <td>2</td>\n      <td>1</td>\n      <td>6</td>\n      <td>0</td>\n      <td>0</td>\n      <td>...</td>\n      <td>NaN</td>\n      <td>NaN</td>\n      <td>NaN</td>\n      <td>NaN</td>\n      <td>NaN</td>\n      <td>NaN</td>\n      <td>NaN</td>\n      <td>NaN</td>\n      <td>NaN</td>\n      <td>NaN</td>\n    </tr>\n    <tr>\n      <th>4</th>\n      <td>0.0</td>\n      <td>0</td>\n      <td>1</td>\n      <td>1</td>\n      <td>1</td>\n      <td>1</td>\n      <td>3</td>\n      <td>7</td>\n      <td>1</td>\n      <td>0</td>\n      <td>...</td>\n      <td>NaN</td>\n      <td>NaN</td>\n      <td>NaN</td>\n      <td>NaN</td>\n      <td>NaN</td>\n      <td>NaN</td>\n      <td>NaN</td>\n      <td>NaN</td>\n      <td>NaN</td>\n      <td>NaN</td>\n    </tr>\n    <tr>\n      <th>...</th>\n      <td>...</td>\n      <td>...</td>\n      <td>...</td>\n      <td>...</td>\n      <td>...</td>\n      <td>...</td>\n      <td>...</td>\n      <td>...</td>\n      <td>...</td>\n      <td>...</td>\n      <td>...</td>\n      <td>...</td>\n      <td>...</td>\n      <td>...</td>\n      <td>...</td>\n      <td>...</td>\n      <td>...</td>\n      <td>...</td>\n      <td>...</td>\n      <td>...</td>\n      <td>...</td>\n    </tr>\n    <tr>\n      <th>267</th>\n      <td>3.0</td>\n      <td>4</td>\n      <td>4</td>\n      <td>3</td>\n      <td>4</td>\n      <td>4</td>\n      <td>3</td>\n      <td>22</td>\n      <td>6</td>\n      <td>1</td>\n      <td>...</td>\n      <td>1.0</td>\n      <td>1.0</td>\n      <td>0.0</td>\n      <td>0.0</td>\n      <td>1.0</td>\n      <td>0.0</td>\n      <td>0.0</td>\n      <td>0.0</td>\n      <td>1.0</td>\n      <td>1.0</td>\n    </tr>\n    <tr>\n      <th>268</th>\n      <td>3.0</td>\n      <td>3</td>\n      <td>2</td>\n      <td>3</td>\n      <td>2</td>\n      <td>2</td>\n      <td>2</td>\n      <td>14</td>\n      <td>4</td>\n      <td>1</td>\n      <td>...</td>\n      <td>1.0</td>\n      <td>1.0</td>\n      <td>0.0</td>\n      <td>0.0</td>\n      <td>4.0</td>\n      <td>0.0</td>\n      <td>1.0</td>\n      <td>0.0</td>\n      <td>0.0</td>\n      <td>2.0</td>\n    </tr>\n    <tr>\n      <th>269</th>\n      <td>3.0</td>\n      <td>4</td>\n      <td>3</td>\n      <td>2</td>\n      <td>3</td>\n      <td>4</td>\n      <td>3</td>\n      <td>19</td>\n      <td>6</td>\n      <td>1</td>\n      <td>...</td>\n      <td>0.0</td>\n      <td>0.0</td>\n      <td>0.0</td>\n      <td>0.0</td>\n      <td>4.0</td>\n      <td>0.0</td>\n      <td>2.0</td>\n      <td>2.0</td>\n      <td>0.0</td>\n      <td>2.0</td>\n    </tr>\n    <tr>\n      <th>270</th>\n      <td>3.0</td>\n      <td>4</td>\n      <td>2</td>\n      <td>2</td>\n      <td>3</td>\n      <td>2</td>\n      <td>3</td>\n      <td>16</td>\n      <td>5</td>\n      <td>1</td>\n      <td>...</td>\n      <td>0.0</td>\n      <td>0.0</td>\n      <td>0.0</td>\n      <td>0.0</td>\n      <td>0.0</td>\n      <td>0.0</td>\n      <td>0.0</td>\n      <td>1.0</td>\n      <td>0.0</td>\n      <td>1.0</td>\n    </tr>\n    <tr>\n      <th>271</th>\n      <td>3.0</td>\n      <td>2</td>\n      <td>1</td>\n      <td>0</td>\n      <td>2</td>\n      <td>3</td>\n      <td>0</td>\n      <td>8</td>\n      <td>2</td>\n      <td>0</td>\n      <td>...</td>\n      <td>0.0</td>\n      <td>0.0</td>\n      <td>0.0</td>\n      <td>1.0</td>\n      <td>3.0</td>\n      <td>0.0</td>\n      <td>1.0</td>\n      <td>0.0</td>\n      <td>1.0</td>\n      <td>2.0</td>\n    </tr>\n  </tbody>\n</table>\n<p>272 rows × 1621 columns</p>\n</div>"
     },
     "metadata": {},
     "execution_count": 40
    }
   ],
   "source": [
    "df1"
   ]
  },
  {
   "cell_type": "code",
   "execution_count": 41,
   "metadata": {},
   "outputs": [
    {
     "output_type": "execute_result",
     "data": {
      "text/plain": [
       "     class  fidget  organize  remappointment  finaldetail  aviodstart  \\\n",
       "0      0.0       2         1               1            2           2   \n",
       "1      0.0       3         2               2            1           3   \n",
       "2      0.0       1         2               3            2           1   \n",
       "3      0.0       1         0               1            1           2   \n",
       "4      0.0       0         1               1            1           1   \n",
       "..     ...     ...       ...             ...          ...         ...   \n",
       "267    3.0       4         4               3            4           4   \n",
       "268    3.0       3         2               3            2           2   \n",
       "269    3.0       4         3               2            3           4   \n",
       "270    3.0       4         2               2            3           2   \n",
       "271    3.0       2         1               0            2           3   \n",
       "\n",
       "     overactive  asrs_score  asrs_exclusionscore  asrs_flag  ...  ymrs1  \\\n",
       "0             3          11                    2          0  ...    NaN   \n",
       "1             2          13                    4          1  ...    NaN   \n",
       "2             0           9                    3          0  ...    NaN   \n",
       "3             1           6                    0          0  ...    NaN   \n",
       "4             3           7                    1          0  ...    NaN   \n",
       "..          ...         ...                  ...        ...  ...    ...   \n",
       "267           3          22                    6          1  ...    1.0   \n",
       "268           2          14                    4          1  ...    1.0   \n",
       "269           3          19                    6          1  ...    0.0   \n",
       "270           3          16                    5          1  ...    0.0   \n",
       "271           0           8                    2          0  ...    0.0   \n",
       "\n",
       "     ymrs9  ymrs11  ymrs8  ymrs6  ymrs3  ymrs7  ymrs4  ymrs10  ymrs2  \n",
       "0      NaN     NaN    NaN    NaN    NaN    NaN    NaN     NaN    NaN  \n",
       "1      NaN     NaN    NaN    NaN    NaN    NaN    NaN     NaN    NaN  \n",
       "2      NaN     NaN    NaN    NaN    NaN    NaN    NaN     NaN    NaN  \n",
       "3      NaN     NaN    NaN    NaN    NaN    NaN    NaN     NaN    NaN  \n",
       "4      NaN     NaN    NaN    NaN    NaN    NaN    NaN     NaN    NaN  \n",
       "..     ...     ...    ...    ...    ...    ...    ...     ...    ...  \n",
       "267    1.0     0.0    0.0    1.0    0.0    0.0    0.0     1.0    1.0  \n",
       "268    1.0     0.0    0.0    4.0    0.0    1.0    0.0     0.0    2.0  \n",
       "269    0.0     0.0    0.0    4.0    0.0    2.0    2.0     0.0    2.0  \n",
       "270    0.0     0.0    0.0    0.0    0.0    0.0    1.0     0.0    1.0  \n",
       "271    0.0     0.0    1.0    3.0    0.0    1.0    0.0     1.0    2.0  \n",
       "\n",
       "[272 rows x 1914 columns]"
      ],
      "text/html": "<div>\n<style scoped>\n    .dataframe tbody tr th:only-of-type {\n        vertical-align: middle;\n    }\n\n    .dataframe tbody tr th {\n        vertical-align: top;\n    }\n\n    .dataframe thead th {\n        text-align: right;\n    }\n</style>\n<table border=\"1\" class=\"dataframe\">\n  <thead>\n    <tr style=\"text-align: right;\">\n      <th></th>\n      <th>class</th>\n      <th>fidget</th>\n      <th>organize</th>\n      <th>remappointment</th>\n      <th>finaldetail</th>\n      <th>aviodstart</th>\n      <th>overactive</th>\n      <th>asrs_score</th>\n      <th>asrs_exclusionscore</th>\n      <th>asrs_flag</th>\n      <th>...</th>\n      <th>ymrs1</th>\n      <th>ymrs9</th>\n      <th>ymrs11</th>\n      <th>ymrs8</th>\n      <th>ymrs6</th>\n      <th>ymrs3</th>\n      <th>ymrs7</th>\n      <th>ymrs4</th>\n      <th>ymrs10</th>\n      <th>ymrs2</th>\n    </tr>\n  </thead>\n  <tbody>\n    <tr>\n      <th>0</th>\n      <td>0.0</td>\n      <td>2</td>\n      <td>1</td>\n      <td>1</td>\n      <td>2</td>\n      <td>2</td>\n      <td>3</td>\n      <td>11</td>\n      <td>2</td>\n      <td>0</td>\n      <td>...</td>\n      <td>NaN</td>\n      <td>NaN</td>\n      <td>NaN</td>\n      <td>NaN</td>\n      <td>NaN</td>\n      <td>NaN</td>\n      <td>NaN</td>\n      <td>NaN</td>\n      <td>NaN</td>\n      <td>NaN</td>\n    </tr>\n    <tr>\n      <th>1</th>\n      <td>0.0</td>\n      <td>3</td>\n      <td>2</td>\n      <td>2</td>\n      <td>1</td>\n      <td>3</td>\n      <td>2</td>\n      <td>13</td>\n      <td>4</td>\n      <td>1</td>\n      <td>...</td>\n      <td>NaN</td>\n      <td>NaN</td>\n      <td>NaN</td>\n      <td>NaN</td>\n      <td>NaN</td>\n      <td>NaN</td>\n      <td>NaN</td>\n      <td>NaN</td>\n      <td>NaN</td>\n      <td>NaN</td>\n    </tr>\n    <tr>\n      <th>2</th>\n      <td>0.0</td>\n      <td>1</td>\n      <td>2</td>\n      <td>3</td>\n      <td>2</td>\n      <td>1</td>\n      <td>0</td>\n      <td>9</td>\n      <td>3</td>\n      <td>0</td>\n      <td>...</td>\n      <td>NaN</td>\n      <td>NaN</td>\n      <td>NaN</td>\n      <td>NaN</td>\n      <td>NaN</td>\n      <td>NaN</td>\n      <td>NaN</td>\n      <td>NaN</td>\n      <td>NaN</td>\n      <td>NaN</td>\n    </tr>\n    <tr>\n      <th>3</th>\n      <td>0.0</td>\n      <td>1</td>\n      <td>0</td>\n      <td>1</td>\n      <td>1</td>\n      <td>2</td>\n      <td>1</td>\n      <td>6</td>\n      <td>0</td>\n      <td>0</td>\n      <td>...</td>\n      <td>NaN</td>\n      <td>NaN</td>\n      <td>NaN</td>\n      <td>NaN</td>\n      <td>NaN</td>\n      <td>NaN</td>\n      <td>NaN</td>\n      <td>NaN</td>\n      <td>NaN</td>\n      <td>NaN</td>\n    </tr>\n    <tr>\n      <th>4</th>\n      <td>0.0</td>\n      <td>0</td>\n      <td>1</td>\n      <td>1</td>\n      <td>1</td>\n      <td>1</td>\n      <td>3</td>\n      <td>7</td>\n      <td>1</td>\n      <td>0</td>\n      <td>...</td>\n      <td>NaN</td>\n      <td>NaN</td>\n      <td>NaN</td>\n      <td>NaN</td>\n      <td>NaN</td>\n      <td>NaN</td>\n      <td>NaN</td>\n      <td>NaN</td>\n      <td>NaN</td>\n      <td>NaN</td>\n    </tr>\n    <tr>\n      <th>...</th>\n      <td>...</td>\n      <td>...</td>\n      <td>...</td>\n      <td>...</td>\n      <td>...</td>\n      <td>...</td>\n      <td>...</td>\n      <td>...</td>\n      <td>...</td>\n      <td>...</td>\n      <td>...</td>\n      <td>...</td>\n      <td>...</td>\n      <td>...</td>\n      <td>...</td>\n      <td>...</td>\n      <td>...</td>\n      <td>...</td>\n      <td>...</td>\n      <td>...</td>\n      <td>...</td>\n    </tr>\n    <tr>\n      <th>267</th>\n      <td>3.0</td>\n      <td>4</td>\n      <td>4</td>\n      <td>3</td>\n      <td>4</td>\n      <td>4</td>\n      <td>3</td>\n      <td>22</td>\n      <td>6</td>\n      <td>1</td>\n      <td>...</td>\n      <td>1.0</td>\n      <td>1.0</td>\n      <td>0.0</td>\n      <td>0.0</td>\n      <td>1.0</td>\n      <td>0.0</td>\n      <td>0.0</td>\n      <td>0.0</td>\n      <td>1.0</td>\n      <td>1.0</td>\n    </tr>\n    <tr>\n      <th>268</th>\n      <td>3.0</td>\n      <td>3</td>\n      <td>2</td>\n      <td>3</td>\n      <td>2</td>\n      <td>2</td>\n      <td>2</td>\n      <td>14</td>\n      <td>4</td>\n      <td>1</td>\n      <td>...</td>\n      <td>1.0</td>\n      <td>1.0</td>\n      <td>0.0</td>\n      <td>0.0</td>\n      <td>4.0</td>\n      <td>0.0</td>\n      <td>1.0</td>\n      <td>0.0</td>\n      <td>0.0</td>\n      <td>2.0</td>\n    </tr>\n    <tr>\n      <th>269</th>\n      <td>3.0</td>\n      <td>4</td>\n      <td>3</td>\n      <td>2</td>\n      <td>3</td>\n      <td>4</td>\n      <td>3</td>\n      <td>19</td>\n      <td>6</td>\n      <td>1</td>\n      <td>...</td>\n      <td>0.0</td>\n      <td>0.0</td>\n      <td>0.0</td>\n      <td>0.0</td>\n      <td>4.0</td>\n      <td>0.0</td>\n      <td>2.0</td>\n      <td>2.0</td>\n      <td>0.0</td>\n      <td>2.0</td>\n    </tr>\n    <tr>\n      <th>270</th>\n      <td>3.0</td>\n      <td>4</td>\n      <td>2</td>\n      <td>2</td>\n      <td>3</td>\n      <td>2</td>\n      <td>3</td>\n      <td>16</td>\n      <td>5</td>\n      <td>1</td>\n      <td>...</td>\n      <td>0.0</td>\n      <td>0.0</td>\n      <td>0.0</td>\n      <td>0.0</td>\n      <td>0.0</td>\n      <td>0.0</td>\n      <td>0.0</td>\n      <td>1.0</td>\n      <td>0.0</td>\n      <td>1.0</td>\n    </tr>\n    <tr>\n      <th>271</th>\n      <td>3.0</td>\n      <td>2</td>\n      <td>1</td>\n      <td>0</td>\n      <td>2</td>\n      <td>3</td>\n      <td>0</td>\n      <td>8</td>\n      <td>2</td>\n      <td>0</td>\n      <td>...</td>\n      <td>0.0</td>\n      <td>0.0</td>\n      <td>0.0</td>\n      <td>1.0</td>\n      <td>3.0</td>\n      <td>0.0</td>\n      <td>1.0</td>\n      <td>0.0</td>\n      <td>1.0</td>\n      <td>2.0</td>\n    </tr>\n  </tbody>\n</table>\n<p>272 rows × 1914 columns</p>\n</div>"
     },
     "metadata": {},
     "execution_count": 41
    }
   ],
   "source": [
    "frame"
   ]
  },
  {
   "cell_type": "code",
   "execution_count": 42,
   "metadata": {},
   "outputs": [
    {
     "output_type": "execute_result",
     "data": {
      "text/plain": [
       "33.0"
      ]
     },
     "metadata": {},
     "execution_count": 42
    }
   ],
   "source": [
    "df['ymrs1'].sum(axis = 0)"
   ]
  },
  {
   "cell_type": "code",
   "execution_count": 43,
   "metadata": {},
   "outputs": [
    {
     "output_type": "execute_result",
     "data": {
      "text/plain": [
       "0.2323943661971831"
      ]
     },
     "metadata": {},
     "execution_count": 43
    }
   ],
   "source": [
    "df['ymrs1'].mean(skipna=True)"
   ]
  },
  {
   "cell_type": "code",
   "execution_count": 44,
   "metadata": {},
   "outputs": [
    {
     "output_type": "execute_result",
     "data": {
      "text/plain": [
       "1.2585744953182871"
      ]
     },
     "metadata": {},
     "execution_count": 44
    }
   ],
   "source": [
    "threshold['hamilton18b']"
   ]
  },
  {
   "cell_type": "code",
   "execution_count": 45,
   "metadata": {},
   "outputs": [
    {
     "output_type": "execute_result",
     "data": {
      "text/plain": [
       "0      NaN\n",
       "1      NaN\n",
       "2      NaN\n",
       "3      NaN\n",
       "4      NaN\n",
       "      ... \n",
       "267    1.0\n",
       "268    0.0\n",
       "269    0.0\n",
       "270    0.0\n",
       "271    0.0\n",
       "Name: hamilton18b, Length: 272, dtype: float64"
      ]
     },
     "metadata": {},
     "execution_count": 45
    }
   ],
   "source": [
    "df['hamilton18b']"
   ]
  },
  {
   "cell_type": "code",
   "execution_count": null,
   "metadata": {},
   "outputs": [],
   "source": []
  },
  {
   "cell_type": "code",
   "execution_count": 46,
   "metadata": {},
   "outputs": [
    {
     "output_type": "execute_result",
     "data": {
      "text/plain": [
       "0.47962993831887624"
      ]
     },
     "metadata": {},
     "execution_count": 46
    }
   ],
   "source": [
    " df['hamilton18b'].mean() + np.sqrt(df['hamilton18b'].var()) * ratio"
   ]
  },
  {
   "cell_type": "code",
   "execution_count": 47,
   "metadata": {},
   "outputs": [
    {
     "output_type": "execute_result",
     "data": {
      "text/plain": [
       "0.13559322033898305"
      ]
     },
     "metadata": {},
     "execution_count": 47
    }
   ],
   "source": [
    "df['hamilton18b'].mean()"
   ]
  },
  {
   "cell_type": "code",
   "execution_count": 48,
   "metadata": {},
   "outputs": [
    {
     "output_type": "execute_result",
     "data": {
      "text/plain": [
       "0      NaN\n",
       "1      NaN\n",
       "2      NaN\n",
       "3      NaN\n",
       "4      NaN\n",
       "      ... \n",
       "267    1.0\n",
       "268    0.0\n",
       "269    0.0\n",
       "270    0.0\n",
       "271    0.0\n",
       "Name: hamilton18b, Length: 272, dtype: float64"
      ]
     },
     "metadata": {},
     "execution_count": 48
    }
   ],
   "source": [
    "df['hamilton18b']"
   ]
  },
  {
   "cell_type": "code",
   "execution_count": 49,
   "metadata": {},
   "outputs": [
    {
     "output_type": "execute_result",
     "data": {
      "text/plain": [
       "class                2.157034\n",
       "fidget               0.558638\n",
       "organize             0.598414\n",
       "remappointment       0.509416\n",
       "finaldetail          0.598414\n",
       "                       ...   \n",
       "ddt_large_incon0     1.000000\n",
       "bilingual0           1.115716\n",
       "bilingual1           0.851010\n",
       "languagespeaking0    1.157040\n",
       "languagespeaking1    0.237923\n",
       "Length: 1557, dtype: float64"
      ]
     },
     "metadata": {},
     "execution_count": 49
    }
   ],
   "source": [
    "df.mean() + np.sqrt(df.var()) * ratio"
   ]
  },
  {
   "cell_type": "code",
   "execution_count": null,
   "metadata": {},
   "outputs": [],
   "source": []
  }
 ]
}